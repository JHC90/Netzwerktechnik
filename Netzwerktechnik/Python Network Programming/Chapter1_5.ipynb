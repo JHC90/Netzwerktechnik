{
 "cells": [
  {
   "cell_type": "markdown",
   "metadata": {},
   "source": [
    "# Mitschrift zum Buch \"Python Network Programming Cookbook - Second Edition\"\n",
    "\n",
    "\n",
    "https://www.thalia.at/shop/home/artikeldetails/ID74920750.html?ProvID=11010474"
   ]
  },
  {
   "cell_type": "markdown",
   "metadata": {},
   "source": [
    "## Ziel\n",
    "konvertierung von high-level(user-Ansicht) zu low-Level(data-Transmission) Anicht\n"
   ]
  },
  {
   "cell_type": "code",
   "execution_count": 18,
   "metadata": {},
   "outputs": [],
   "source": [
    "# Sockets ist build-in => kein pip install\n",
    "import socket"
   ]
  },
  {
   "cell_type": "code",
   "execution_count": 19,
   "metadata": {},
   "outputs": [],
   "source": [
    "testinglist = [\n",
    "    \"1234\",#Home\n",
    "    \"123456789\",\n",
    "    \"300490\",\n",
    "    \"241289\",\n",
    "    \"110161\"\n",
    "]\n",
    "# print(testinglist)"
   ]
  },
  {
   "cell_type": "code",
   "execution_count": 20,
   "metadata": {},
   "outputs": [],
   "source": [
    "def convert_integer(incoming):\n",
    "    data = incoming\n",
    "    # 32-bit = network byte order\n",
    "    print (\"Original: %s => Long host byte order: %s, Network byte order:%s\" \n",
    "           %(data, socket.ntohl(data), socket.htonl(data)))\n",
    "    \n",
    "    \n",
    "   # 16-bit = Host-Byte-Order\n",
    "    print (\"Original: %s => Short host byte order: %s, Network byte order:%s\"\n",
    "           %(data, socket.ntohs(data), socket.htons(data)))\n",
    "    print()"
   ]
  },
  {
   "cell_type": "code",
   "execution_count": 21,
   "metadata": {},
   "outputs": [
    {
     "name": "stdout",
     "output_type": "stream",
     "text": [
      "Original: 1234 => Long host byte order: 3523477504, Network byte order:3523477504\n",
      "Original: 1234 => Short host byte order: 53764, Network byte order:53764\n",
      "\n",
      "Original: 123456789 => Long host byte order: 365779719, Network byte order:365779719\n",
      "Original: 123456789 => Short host byte order: 5581, Network byte order:5581\n",
      "\n",
      "Original: 300490 => Long host byte order: 3398763520, Network byte order:3398763520\n",
      "Original: 300490 => Short host byte order: 51861, Network byte order:51861\n",
      "\n",
      "Original: 241289 => Long host byte order: 2309882624, Network byte order:2309882624\n",
      "Original: 241289 => Short host byte order: 35246, Network byte order:35246\n",
      "\n",
      "Original: 110161 => Long host byte order: 1370358016, Network byte order:1370358016\n",
      "Original: 110161 => Short host byte order: 20910, Network byte order:20910\n",
      "\n"
     ]
    }
   ],
   "source": [
    "\n",
    "for i in range(0,len(testinglist)):\n",
    "    # print(testinglist[i])\n",
    "    convert_integer(int(testinglist[i]))\n",
    "    "
   ]
  },
  {
   "cell_type": "markdown",
   "metadata": {},
   "source": [
    "# Notizen\n"
   ]
  },
  {
   "cell_type": "markdown",
   "metadata": {},
   "source": [
    "<hr>\n",
    "<hr>\n",
    "<hr>\n",
    "# Here the System and packages I Used for creating this Notebook"
   ]
  },
  {
   "cell_type": "code",
   "execution_count": null,
   "metadata": {},
   "outputs": [],
   "source": [
    "import os\n",
    "print(os.name)\n",
    "import platform\n",
    "print(platform.system())\n",
    "print(platform.release())"
   ]
  }
 ],
 "metadata": {
  "kernelspec": {
   "display_name": "Python 3",
   "language": "python",
   "name": "python3"
  },
  "language_info": {
   "codemirror_mode": {
    "name": "ipython",
    "version": 3
   },
   "file_extension": ".py",
   "mimetype": "text/x-python",
   "name": "python",
   "nbconvert_exporter": "python",
   "pygments_lexer": "ipython3",
   "version": "3.6.5"
  }
 },
 "nbformat": 4,
 "nbformat_minor": 2
}
