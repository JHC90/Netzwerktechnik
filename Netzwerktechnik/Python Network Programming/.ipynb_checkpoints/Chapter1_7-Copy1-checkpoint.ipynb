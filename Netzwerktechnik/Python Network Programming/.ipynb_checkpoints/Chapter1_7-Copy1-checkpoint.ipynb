{
 "cells": [
  {
   "cell_type": "markdown",
   "metadata": {},
   "source": [
    "# Mitschrift zum Buch \"Python Network Programming Cookbook - Second Edition\"\n",
    "\n",
    "\n",
    "https://www.thalia.at/shop/home/artikeldetails/ID74920750.html?ProvID=11010474"
   ]
  },
  {
   "cell_type": "markdown",
   "metadata": {},
   "source": [
    "## Ziel\n",
    "Configure the Socket\n",
    "<li>timeout</li>\n"
   ]
  },
  {
   "cell_type": "code",
   "execution_count": 3,
   "metadata": {},
   "outputs": [],
   "source": [
    "# Sockets ist build-in => kein pip install\n",
    "import socket"
   ]
  },
  {
   "cell_type": "code",
   "execution_count": 4,
   "metadata": {},
   "outputs": [],
   "source": [
    "def test_socket_timeout():\n",
    "    s = socket.socket(socket.AF_INET, socket.SOCK_STREAM)\n",
    "    print (\"Default socket timeout: %s\" %s.gettimeout())\n",
    "    s.settimeout(1000)\n",
    "    print (\"Current socket timeout: %s\" %s.gettimeout())"
   ]
  },
  {
   "cell_type": "markdown",
   "metadata": {},
   "source": [
    "sprich ich sollte den Aufbau (sny => syn/ack => ack entsprechend nachvollziehen können) und den Abbau => (fin ack => fin ACK ) dargestellt"
   ]
  },
  {
   "cell_type": "code",
   "execution_count": 5,
   "metadata": {},
   "outputs": [
    {
     "name": "stdout",
     "output_type": "stream",
     "text": [
      "Default socket timeout: None\n",
      "Current socket timeout: 1000.0\n"
     ]
    }
   ],
   "source": [
    "test_socket_timeout()"
   ]
  },
  {
   "cell_type": "markdown",
   "metadata": {},
   "source": [
    "# Notizen\n"
   ]
  },
  {
   "cell_type": "markdown",
   "metadata": {},
   "source": [
    "<hr>\n",
    "<hr>\n",
    "<hr>\n",
    "# Here the System and packages I Used for creating this Notebook"
   ]
  },
  {
   "cell_type": "code",
   "execution_count": 8,
   "metadata": {},
   "outputs": [
    {
     "name": "stdout",
     "output_type": "stream",
     "text": [
      "nt\n",
      "Windows\n",
      "10\n"
     ]
    }
   ],
   "source": [
    "import os\n",
    "print(os.name)\n",
    "import platform\n",
    "print(platform.system())\n",
    "print(platform.release())"
   ]
  }
 ],
 "metadata": {
  "kernelspec": {
   "display_name": "Python 3",
   "language": "python",
   "name": "python3"
  },
  "language_info": {
   "codemirror_mode": {
    "name": "ipython",
    "version": 3
   },
   "file_extension": ".py",
   "mimetype": "text/x-python",
   "name": "python",
   "nbconvert_exporter": "python",
   "pygments_lexer": "ipython3",
   "version": "3.6.5"
  }
 },
 "nbformat": 4,
 "nbformat_minor": 2
}
