{
 "cells": [
  {
   "cell_type": "markdown",
   "metadata": {},
   "source": [
    "# Mitschrift zum Buch \"Python Network Programming Cookbook - Second Edition\"\n",
    "\n",
    "\n",
    "https://www.thalia.at/shop/home/artikeldetails/ID74920750.html?ProvID=11010474"
   ]
  },
  {
   "cell_type": "markdown",
   "metadata": {},
   "source": [
    "## Ziel\n",
    "Convert IPV-v4 aus der Dezimalschreibweise (ausgedrückt durch einen String) in die 32-Bit / packed darstellung\n"
   ]
  },
  {
   "cell_type": "code",
   "execution_count": 7,
   "metadata": {},
   "outputs": [],
   "source": [
    "# Sockets ist build-in => kein pip install\n",
    "import socket\n",
    "# binascii ist build-in => kein pip install\n",
    "from binascii import hexlify"
   ]
  },
  {
   "cell_type": "code",
   "execution_count": 8,
   "metadata": {},
   "outputs": [],
   "source": [
    "''' ggf einen Scan nach allen IP-Adresse im Lokalen Netz und von dort weg \n",
    "dann die Aufzeichennung der Info-Gathering\n",
    "'''\n",
    "testinglist = [\n",
    "    \"127.0.0.1\",#Home\n",
    "    \"192.168.0.1\",\n",
    "    \"192.168.178.1\",#Normalerweise Router/gateway\n",
    "    \"192.168.179.254\",#Alternativ Router/gateway\n",
    "    \"172.217.23.227\"#Google\n",
    "]\n",
    "# print(testinglist)"
   ]
  },
  {
   "cell_type": "code",
   "execution_count": 9,
   "metadata": {},
   "outputs": [],
   "source": [
    "def convert_ip4_address():\n",
    "    for ip_addr in testinglist:\n",
    "        packed_ip_addr = socket.inet_aton(ip_addr) # Convertierung in packed\n",
    "        unpacked_ip_addr = socket.inet_ntoa(packed_ip_addr) # Convertierung in unpacked\n",
    "        \n",
    "        print (\"IP Address: %s => Packed: %s, Unpacked: %s\"\n",
    "               %(ip_addr,hexlify(packed_ip_addr),unpacked_ip_addr))"
   ]
  },
  {
   "cell_type": "code",
   "execution_count": 11,
   "metadata": {},
   "outputs": [
    {
     "name": "stdout",
     "output_type": "stream",
     "text": [
      "IP Address: 127.0.0.1 => Packed: b'7f000001', Unpacked: 127.0.0.1\n",
      "IP Address: 192.168.0.1 => Packed: b'c0a80001', Unpacked: 192.168.0.1\n",
      "IP Address: 192.168.178.1 => Packed: b'c0a8b201', Unpacked: 192.168.178.1\n",
      "IP Address: 192.168.179.254 => Packed: b'c0a8b3fe', Unpacked: 192.168.179.254\n",
      "IP Address: 172.217.23.227 => Packed: b'acd917e3', Unpacked: 172.217.23.227\n"
     ]
    }
   ],
   "source": [
    "# Check nochmals den Main // das main veri\n",
    "if __name__ == '__main__':\n",
    "    convert_ip4_address()"
   ]
  },
  {
   "cell_type": "code",
   "execution_count": 10,
   "metadata": {},
   "outputs": [
    {
     "name": "stdout",
     "output_type": "stream",
     "text": [
      "IP Address: 127.0.0.1 => Packed: b'7f000001', Unpacked: 127.0.0.1\n",
      "IP Address: 192.168.0.1 => Packed: b'c0a80001', Unpacked: 192.168.0.1\n",
      "IP Address: 192.168.178.1 => Packed: b'c0a8b201', Unpacked: 192.168.178.1\n",
      "IP Address: 192.168.179.254 => Packed: b'c0a8b3fe', Unpacked: 192.168.179.254\n",
      "IP Address: 172.217.23.227 => Packed: b'acd917e3', Unpacked: 172.217.23.227\n"
     ]
    }
   ],
   "source": [
    " convert_ip4_address()"
   ]
  },
  {
   "cell_type": "markdown",
   "metadata": {},
   "source": [
    "# Notizen\n",
    "<ul>\n",
    "    <li>\n",
    "        bzgl der Main-Aufrufe. hier im Jupyter ist es wurscht, weil ich die Chunks isoliert aufrufe und ausführe, wäre es aber ein \"*.py\"-file, dann würde beim Aufrufen des Skriptes dann der Beriech mit \"__main__\" fix ausgeführt\n",
    "    </li>\n",
    "</ul>"
   ]
  },
  {
   "cell_type": "markdown",
   "metadata": {},
   "source": [
    "<hr>\n",
    "<hr>\n",
    "<hr>\n",
    "# Here the System and packages I Used for creating this Notebook"
   ]
  },
  {
   "cell_type": "code",
   "execution_count": null,
   "metadata": {},
   "outputs": [],
   "source": [
    "import os\n",
    "print(os.name)\n",
    "import platform\n",
    "print(platform.system())\n",
    "print(platform.release())"
   ]
  }
 ],
 "metadata": {
  "kernelspec": {
   "display_name": "Python 3",
   "language": "python",
   "name": "python3"
  },
  "language_info": {
   "codemirror_mode": {
    "name": "ipython",
    "version": 3
   },
   "file_extension": ".py",
   "mimetype": "text/x-python",
   "name": "python",
   "nbconvert_exporter": "python",
   "pygments_lexer": "ipython3",
   "version": "3.7.0"
  },
  "toc": {
   "base_numbering": 1,
   "nav_menu": {},
   "number_sections": true,
   "sideBar": true,
   "skip_h1_title": false,
   "title_cell": "Table of Contents",
   "title_sidebar": "Contents",
   "toc_cell": false,
   "toc_position": {},
   "toc_section_display": true,
   "toc_window_display": false
  }
 },
 "nbformat": 4,
 "nbformat_minor": 2
}
