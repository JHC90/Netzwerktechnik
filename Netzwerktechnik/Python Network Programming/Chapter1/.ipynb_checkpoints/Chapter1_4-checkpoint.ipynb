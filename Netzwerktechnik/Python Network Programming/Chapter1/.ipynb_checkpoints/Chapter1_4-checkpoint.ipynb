{
 "cells": [
  {
   "cell_type": "markdown",
   "metadata": {},
   "source": [
    "# Mitschrift zum Buch \"Python Network Programming Cookbook - Second Edition\"\n",
    "\n",
    "\n",
    "https://www.thalia.at/shop/home/artikeldetails/ID74920750.html?ProvID=11010474"
   ]
  },
  {
   "cell_type": "markdown",
   "metadata": {},
   "source": [
    "## Ziel\n",
    "Finde einen Service, gegben den Port und den das Protokoll\n"
   ]
  },
  {
   "cell_type": "code",
   "execution_count": 3,
   "metadata": {},
   "outputs": [],
   "source": [
    "# Sockets ist build-in => kein pip install\n",
    "import socket\n"
   ]
  },
  {
   "cell_type": "code",
   "execution_count": 13,
   "metadata": {},
   "outputs": [],
   "source": [
    "''' ggf einen Scan nach allen IP-Adresse im Lokalen Netz und von dort weg \n",
    "dann die Aufzeichennung der Info-Gathering\n",
    "'''\n",
    "testinglist = list(range(20,5000))"
   ]
  },
  {
   "cell_type": "code",
   "execution_count": 22,
   "metadata": {},
   "outputs": [],
   "source": [
    "def find_service_name():\n",
    "    protocolname = 'tcp'\n",
    "    #for port in testinglist: # => dafür braucht es try and Except      \n",
    "    for port in [20,21,22,53,80,443,3309]:\n",
    "        print(\"\")\n",
    "        print(\"###---NEW-Testing-ENTRY---###\")\n",
    "        print(port)\n",
    "        print (\"Port: %s => service name: %s\" \n",
    "               %(port, socket.getservbyport(port, protocolname)))    "
   ]
  },
  {
   "cell_type": "code",
   "execution_count": 23,
   "metadata": {
    "scrolled": true
   },
   "outputs": [
    {
     "name": "stdout",
     "output_type": "stream",
     "text": [
      "\n",
      "###---NEW-Testing-ENTRY---###\n",
      "20\n",
      "Port: 20 => service name: ftp-data\n",
      "\n",
      "###---NEW-Testing-ENTRY---###\n",
      "21\n",
      "Port: 21 => service name: ftp\n",
      "\n",
      "###---NEW-Testing-ENTRY---###\n",
      "22\n",
      "Port: 22 => service name: ssh\n",
      "\n",
      "###---NEW-Testing-ENTRY---###\n",
      "53\n",
      "Port: 53 => service name: domain\n",
      "\n",
      "###---NEW-Testing-ENTRY---###\n",
      "80\n",
      "Port: 80 => service name: http\n",
      "\n",
      "###---NEW-Testing-ENTRY---###\n",
      "443\n",
      "Port: 443 => service name: https\n",
      "\n",
      "###---NEW-Testing-ENTRY---###\n",
      "3309\n",
      "Port: 3309 => service name: sapgw09\n"
     ]
    }
   ],
   "source": [
    "find_service_name()"
   ]
  },
  {
   "cell_type": "markdown",
   "metadata": {},
   "source": [
    "# Notizen\n"
   ]
  },
  {
   "cell_type": "markdown",
   "metadata": {},
   "source": [
    "<hr>\n",
    "<hr>\n",
    "<hr>\n",
    "# Here the System and packages I Used for creating this Notebook"
   ]
  },
  {
   "cell_type": "code",
   "execution_count": null,
   "metadata": {},
   "outputs": [],
   "source": [
    "import os\n",
    "print(os.name)\n",
    "import platform\n",
    "print(platform.system())\n",
    "print(platform.release())"
   ]
  }
 ],
 "metadata": {
  "kernelspec": {
   "display_name": "Python 3",
   "language": "python",
   "name": "python3"
  },
  "language_info": {
   "codemirror_mode": {
    "name": "ipython",
    "version": 3
   },
   "file_extension": ".py",
   "mimetype": "text/x-python",
   "name": "python",
   "nbconvert_exporter": "python",
   "pygments_lexer": "ipython3",
   "version": "3.7.0"
  },
  "toc": {
   "base_numbering": 1,
   "nav_menu": {},
   "number_sections": true,
   "sideBar": true,
   "skip_h1_title": false,
   "title_cell": "Table of Contents",
   "title_sidebar": "Contents",
   "toc_cell": false,
   "toc_position": {},
   "toc_section_display": true,
   "toc_window_display": false
  }
 },
 "nbformat": 4,
 "nbformat_minor": 2
}
