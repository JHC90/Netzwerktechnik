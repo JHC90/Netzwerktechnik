{
 "cells": [
  {
   "cell_type": "markdown",
   "metadata": {},
   "source": [
    "# Mitschrift zum Buch \"Python Network Programming Cookbook - Second Edition\"\n",
    "\n",
    "\n",
    "https://www.thalia.at/shop/home/artikeldetails/ID74920750.html?ProvID=11010474"
   ]
  },
  {
   "cell_type": "markdown",
   "metadata": {},
   "source": [
    "## Ziel\n",
    "Error Handling für den Fall dass ein Kommunikationsversuch scheitert = bspw weil die DST nicht up ist\n",
    "\n"
   ]
  },
  {
   "cell_type": "code",
   "execution_count": 17,
   "metadata": {},
   "outputs": [],
   "source": [
    "# Sockets ist build-in => kein pip install\n",
    "import socket\n",
    "# Build in \n",
    "import sys\n",
    "# Scheint build-in zu sein\n",
    "import argparse"
   ]
  },
  {
   "cell_type": "code",
   "execution_count": 18,
   "metadata": {},
   "outputs": [],
   "source": [
    "def main(incominghost, icomingport, incomingfile):\n",
    "    # setup argument parsing\n",
    "    '''\n",
    "    parser = argparse.ArgumentParser(description='Socket Error Examples')\n",
    "    parser.add_argument('--host', action=\"store\", dest=\"host\",required=False)\n",
    "    parser.add_argument('--port', action=\"store\", dest=\"port\",type=int,required=False)\n",
    "    parser.add_argument('--file', action=\"store\", dest=\"file\",required=False)\n",
    "    given_args = parser.parse_args()\n",
    "    '''\n",
    "    \n",
    "    host = incominghost\n",
    "    port = icomingport\n",
    "    filename = incomingfile\n",
    "    \n",
    "    # First try-except block -- create socket\n",
    "    try:\n",
    "        s = socket.socket(socket.AF_INET, socket.SOCK_STREAM)\n",
    "    except socket.error as e:\n",
    "        print (\"Error creating socket: %s\" % e)\n",
    "        sys.exit(1)\n",
    "    \n",
    "    # Second try-except block -- connect to given host/port\n",
    "    try:\n",
    "        s.connect((host, port))\n",
    "    except socket.gaierror as e:\n",
    "        print (\"Address-related error connecting to server: %s\" % e)\n",
    "        sys.exit(1)\n",
    "    except socket.error as e:\n",
    "        print (\"Connection error: %s\" % e)\n",
    "        sys.exit(1)\n",
    "    \n",
    "    # Third try-except block -- sending data\n",
    "    try:\n",
    "        msg = \"GET %s HTTP/1.0\\r\\n\\r\\n\" % filename\n",
    "        s.sendall(msg.encode('utf-8'))\n",
    "    except socket.error as e:\n",
    "        print (\"Error sending data: %s\" % e)\n",
    "        sys.exit(1)\n",
    "               \n",
    "    while 1:\n",
    "        # Fourth tr-except block -- waiting to receive data from remote host\n",
    "        try:\n",
    "            buf = s.recv(2048)\n",
    "        except socket.error as e:\n",
    "            print (\"Error receiving data: %s\" % e)\n",
    "            sys.exit(1)\n",
    "        \n",
    "        if not len(buf):\n",
    "            break\n",
    "        # write the received data\n",
    "        sys.stdout.write(buf.decode('utf-8'))"
   ]
  },
  {
   "cell_type": "code",
   "execution_count": 19,
   "metadata": {},
   "outputs": [
    {
     "name": "stdout",
     "output_type": "stream",
     "text": [
      "Address-related error connecting to server: [Errno 11001] getaddrinfo failed\n"
     ]
    },
    {
     "ename": "SystemExit",
     "evalue": "1",
     "output_type": "error",
     "traceback": [
      "An exception has occurred, use %tb to see the full traceback.\n",
      "\u001b[1;31mSystemExit\u001b[0m\u001b[1;31m:\u001b[0m 1\n"
     ]
    },
    {
     "name": "stderr",
     "output_type": "stream",
     "text": [
      "C:\\Users\\Joche\\Anaconda3\\lib\\site-packages\\IPython\\core\\interactiveshell.py:2969: UserWarning: To exit: use 'exit', 'quit', or Ctrl-D.\n",
      "  warn(\"To exit: use 'exit', 'quit', or Ctrl-D.\", stacklevel=1)\n"
     ]
    }
   ],
   "source": [
    "main(\"www.pyto.org\",8080,\"1_7_socket_errors.py\") # pyto.org gibt es nicht => bewusst Fehler um Except zu prüfen"
   ]
  },
  {
   "cell_type": "code",
   "execution_count": 20,
   "metadata": {},
   "outputs": [
    {
     "name": "stdout",
     "output_type": "stream",
     "text": [
      "Connection error: [WinError 10060] Ein Verbindungsversuch ist fehlgeschlagen, da die Gegenstelle nach einer bestimmten Zeitspanne nicht richtig reagiert hat, oder die hergestellte Verbindung war fehlerhaft, da der verbundene Host nicht reagiert hat\n"
     ]
    },
    {
     "ename": "SystemExit",
     "evalue": "1",
     "output_type": "error",
     "traceback": [
      "An exception has occurred, use %tb to see the full traceback.\n",
      "\u001b[1;31mSystemExit\u001b[0m\u001b[1;31m:\u001b[0m 1\n"
     ]
    },
    {
     "name": "stderr",
     "output_type": "stream",
     "text": [
      "C:\\Users\\Joche\\Anaconda3\\lib\\site-packages\\IPython\\core\\interactiveshell.py:2969: UserWarning: To exit: use 'exit', 'quit', or Ctrl-D.\n",
      "  warn(\"To exit: use 'exit', 'quit', or Ctrl-D.\", stacklevel=1)\n"
     ]
    }
   ],
   "source": [
    "main(\"www.python.org\",8080,\"1_7_socket_errors.py\")"
   ]
  },
  {
   "cell_type": "code",
   "execution_count": null,
   "metadata": {},
   "outputs": [],
   "source": [
    "main(\"www.python.org\",80,\"1_7_socket_errors.py\")"
   ]
  },
  {
   "cell_type": "raw",
   "metadata": {},
   "source": [
    "# für den Aufruf aus einer CMD heraus ich arbeite hier mit Parameter \n",
    "def main():\n",
    "    # setup argument parsing\n",
    "    parser = argparse.ArgumentParser(description='Socket Error Examples')\n",
    "    parser.add_argument('--host', action=\"store\", dest=\"host\",required=False)\n",
    "    parser.add_argument('--port', action=\"store\", dest=\"port\",type=int,required=False)\n",
    "    parser.add_argument('--file', action=\"store\", dest=\"file\",required=False)\n",
    "    given_args = parser.parse_args()\n",
    "    host = given_args.host\n",
    "    port = given_args.port\n",
    "    filename = given_args.file\n",
    "    \n",
    "    # First try-except block -- create socket\n",
    "    try:\n",
    "        s = socket.socket(socket.AF_INET, socket.SOCK_STREAM)\n",
    "    except socket.error as e:\n",
    "        print (\"Error creating socket: %s\" % e)\n",
    "        sys.exit(1)\n",
    "    \n",
    "    # Second try-except block -- connect to given host/port\n",
    "    try:\n",
    "        s.connect((host, port))\n",
    "    except socket.gaierror as e:\n",
    "        print (\"Address-related error connecting to server: %s\" % e)\n",
    "        sys.exit(1)\n",
    "    except socket.error as e:\n",
    "        print (\"Connection error: %s\" % e)\n",
    "        sys.exit(1)\n",
    "    \n",
    "    # Third try-except block -- sending data\n",
    "    try:\n",
    "        msg = \"GET %s HTTP/1.0\\r\\n\\r\\n\" % filename\n",
    "        s.sendall(msg.encode('utf-8'))\n",
    "    except socket.error as e:\n",
    "        print (\"Error sending data: %s\" % e)\n",
    "        sys.exit(1)\n",
    "               \n",
    "    while 1:\n",
    "        # Fourth tr-except block -- waiting to receive data from remote host\n",
    "        try:\n",
    "            buf = s.recv(2048)\n",
    "        except socket.error as e:\n",
    "            print (\"Error receiving data: %s\" % e)\n",
    "            sys.exit(1)\n",
    "        \n",
    "        if not len(buf):\n",
    "            break\n",
    "        # write the received data\n",
    "        sys.stdout.write(buf.decode('utf-8'))"
   ]
  },
  {
   "cell_type": "code",
   "execution_count": 6,
   "metadata": {},
   "outputs": [
    {
     "name": "stderr",
     "output_type": "stream",
     "text": [
      "usage: ipykernel_launcher.py [-h] [--host HOST] [--port PORT] [--file FILE]\n",
      "ipykernel_launcher.py: error: unrecognized arguments: -f C:\\Users\\Joche\\AppData\\Roaming\\jupyter\\runtime\\kernel-80824e52-8da9-4c57-acc6-5466020681de.json\n"
     ]
    },
    {
     "ename": "SystemExit",
     "evalue": "2",
     "output_type": "error",
     "traceback": [
      "An exception has occurred, use %tb to see the full traceback.\n",
      "\u001b[1;31mSystemExit\u001b[0m\u001b[1;31m:\u001b[0m 2\n"
     ]
    },
    {
     "name": "stderr",
     "output_type": "stream",
     "text": [
      "C:\\Users\\Joche\\Anaconda3\\lib\\site-packages\\IPython\\core\\interactiveshell.py:2969: UserWarning: To exit: use 'exit', 'quit', or Ctrl-D.\n",
      "  warn(\"To exit: use 'exit', 'quit', or Ctrl-D.\", stacklevel=1)\n"
     ]
    }
   ],
   "source": [
    "main"
   ]
  },
  {
   "cell_type": "markdown",
   "metadata": {},
   "source": [
    "# Notizen\n"
   ]
  },
  {
   "cell_type": "markdown",
   "metadata": {},
   "source": [
    "<hr>\n",
    "<hr>\n",
    "<hr>\n",
    "# Here the System and packages I Used for creating this Notebook"
   ]
  },
  {
   "cell_type": "code",
   "execution_count": 8,
   "metadata": {},
   "outputs": [
    {
     "name": "stdout",
     "output_type": "stream",
     "text": [
      "nt\n",
      "Windows\n",
      "10\n"
     ]
    }
   ],
   "source": [
    "import os\n",
    "print(os.name)\n",
    "import platform\n",
    "print(platform.system())\n",
    "print(platform.release())"
   ]
  }
 ],
 "metadata": {
  "kernelspec": {
   "display_name": "Python 3",
   "language": "python",
   "name": "python3"
  },
  "language_info": {
   "codemirror_mode": {
    "name": "ipython",
    "version": 3
   },
   "file_extension": ".py",
   "mimetype": "text/x-python",
   "name": "python",
   "nbconvert_exporter": "python",
   "pygments_lexer": "ipython3",
   "version": "3.7.0"
  },
  "toc": {
   "base_numbering": 1,
   "nav_menu": {},
   "number_sections": true,
   "sideBar": true,
   "skip_h1_title": false,
   "title_cell": "Table of Contents",
   "title_sidebar": "Contents",
   "toc_cell": false,
   "toc_position": {},
   "toc_section_display": true,
   "toc_window_display": false
  }
 },
 "nbformat": 4,
 "nbformat_minor": 2
}
