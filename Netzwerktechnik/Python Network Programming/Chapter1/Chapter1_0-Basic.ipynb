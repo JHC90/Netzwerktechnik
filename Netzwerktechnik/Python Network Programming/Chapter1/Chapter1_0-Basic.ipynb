{
 "cells": [
  {
   "cell_type": "markdown",
   "metadata": {},
   "source": [
    "# Mitschrift zum Buch \"Python Network Programming Cookbook - Second Edition\"\n",
    "\n",
    "\n",
    "https://www.thalia.at/shop/home/artikeldetails/ID74920750.html?ProvID=11010474"
   ]
  },
  {
   "cell_type": "markdown",
   "metadata": {},
   "source": [
    "## Ziel dieses Notebooks sind Infos für das Kapitel aufzubereiten\n",
    "\n",
    "[Sockets](https://www.itwissen.info/Socket-socket.html) sind Basis für Verbindungen, sind aber perse noch keine Verbindungen(bieten lediglich die dafür nötige Infrastruktur)\n",
    "\n",
    "Beim Verbindungsaufbau wird erst ein Socket erstellt und dann speziell modifizert um genutzt werden zu können. Somit ist ein Socket ein Kommunikationsendpunkt der zur Kommunikation verwendet wird.  Sind im ISO/osi auf layer 4 = Transport-Layer angesiedelt.\n",
    "\n",
    "Ein Socket ist die Kombination aus IP & Portnummer mit welcher eine bestimmte Anwendung auf einem Bestimmten Rechner angesprochen wird.\n",
    "\n",
    "Socket = Interface für Anwendungen\n",
    "\n",
    "\n",
    "Socket Eigenschaften:\n",
    "<ul>\n",
    "    <li>\n",
    "        Socket Buffer Size: Größe der Packete die über dieses Socket laufen können\n",
    "    </li>\n",
    "    <li>\n",
    "        Socket-Time-Out: gibt an wann ein Socket abgebaut werden soll\n",
    "    </li>\n",
    "    <li>\n",
    "        blocking/non-Blocking mode: ist der Zustand auf blocking gesetzt, so wird der Inhalt erst zruückgegeben an die Applikation, sobald die Kommunikation vollständig ist => dahinter wieder ein Timeout für den Fall dass die Kommunikation nicht zustande kommt\n",
    "    </li>\n",
    "</ul>\n"
   ]
  },
  {
   "cell_type": "markdown",
   "metadata": {},
   "source": [
    "<hr>\n",
    "<hr>\n",
    "<hr>\n",
    "# Here the System and packages I Used for creating this Notebook"
   ]
  },
  {
   "cell_type": "code",
   "execution_count": 1,
   "metadata": {},
   "outputs": [
    {
     "name": "stdout",
     "output_type": "stream",
     "text": [
      "nt\n",
      "Windows\n",
      "10\n"
     ]
    }
   ],
   "source": [
    "import os\n",
    "print(os.name)\n",
    "import platform\n",
    "print(platform.system())\n",
    "print(platform.release())"
   ]
  }
 ],
 "metadata": {
  "kernelspec": {
   "display_name": "Python 3",
   "language": "python",
   "name": "python3"
  },
  "language_info": {
   "codemirror_mode": {
    "name": "ipython",
    "version": 3
   },
   "file_extension": ".py",
   "mimetype": "text/x-python",
   "name": "python",
   "nbconvert_exporter": "python",
   "pygments_lexer": "ipython3",
   "version": "3.7.0"
  },
  "toc": {
   "base_numbering": 1,
   "nav_menu": {},
   "number_sections": true,
   "sideBar": true,
   "skip_h1_title": false,
   "title_cell": "Table of Contents",
   "title_sidebar": "Contents",
   "toc_cell": false,
   "toc_position": {},
   "toc_section_display": true,
   "toc_window_display": false
  }
 },
 "nbformat": 4,
 "nbformat_minor": 2
}
