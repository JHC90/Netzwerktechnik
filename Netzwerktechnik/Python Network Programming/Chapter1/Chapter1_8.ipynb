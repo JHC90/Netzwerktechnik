{
 "cells": [
  {
   "cell_type": "markdown",
   "metadata": {},
   "source": [
    "# Mitschrift zum Buch \"Python Network Programming Cookbook - Second Edition\"\n",
    "\n",
    "\n",
    "https://www.thalia.at/shop/home/artikeldetails/ID74920750.html?ProvID=11010474"
   ]
  },
  {
   "cell_type": "markdown",
   "metadata": {},
   "source": [
    "## Ziel\n",
    "Modifying a socket's send/receive buffer sizes\n"
   ]
  },
  {
   "cell_type": "code",
   "execution_count": 1,
   "metadata": {},
   "outputs": [],
   "source": [
    "# Sockets ist build-in => kein pip install\n",
    "import socket\n"
   ]
  },
  {
   "cell_type": "code",
   "execution_count": 2,
   "metadata": {},
   "outputs": [],
   "source": [
    "SEND_BUF_SIZE = 4096\n",
    "RECV_BUF_SIZE = 4096\n",
    "\n",
    "def modify_buff_size():\n",
    "    \n",
    "    # grundsätzlich socket erstellen\n",
    "    sock = socket.socket( socket.AF_INET, socket.SOCK_STREAM )\n",
    "    \n",
    "    # Get the size of the socket's send buffer\n",
    "    bufsize = sock.getsockopt(socket.SOL_SOCKET, socket.SO_SNDBUF)\n",
    "    print (\"Buffer size [Before]:%d\" %bufsize)\n",
    "    \n",
    "    # Modifizere BUFFER-SIZE\n",
    "    sock.setsockopt(socket.SOL_TCP, socket.TCP_NODELAY, 1)\n",
    "    sock.setsockopt(socket.SOL_SOCKET,socket.SO_SNDBUF,SEND_BUF_SIZE)\n",
    "    sock.setsockopt(socket.SOL_SOCKET,socket.SO_RCVBUF,RECV_BUF_SIZE)\n",
    "    bufsize = sock.getsockopt(socket.SOL_SOCKET, socket.SO_SNDBUF)\n",
    "    \n",
    "    # Gib neue BUFFER-Size aus\n",
    "    print (\"Buffer size [After]:%d\" %bufsize)\n"
   ]
  },
  {
   "cell_type": "code",
   "execution_count": 3,
   "metadata": {},
   "outputs": [
    {
     "name": "stdout",
     "output_type": "stream",
     "text": [
      "Buffer size [Before]:65536\n",
      "Buffer size [After]:4096\n"
     ]
    }
   ],
   "source": [
    "if __name__ == '__main__':\n",
    "    modify_buff_size()"
   ]
  },
  {
   "cell_type": "markdown",
   "metadata": {},
   "source": [
    "# Notizen\n"
   ]
  },
  {
   "cell_type": "markdown",
   "metadata": {},
   "source": [
    "<hr>\n",
    "<hr>\n",
    "<hr>\n",
    "# Here the System and packages I Used for creating this Notebook"
   ]
  },
  {
   "cell_type": "code",
   "execution_count": 8,
   "metadata": {},
   "outputs": [
    {
     "name": "stdout",
     "output_type": "stream",
     "text": [
      "nt\n",
      "Windows\n",
      "10\n"
     ]
    }
   ],
   "source": [
    "import os\n",
    "print(os.name)\n",
    "import platform\n",
    "print(platform.system())\n",
    "print(platform.release())"
   ]
  }
 ],
 "metadata": {
  "kernelspec": {
   "display_name": "Python 3",
   "language": "python",
   "name": "python3"
  },
  "language_info": {
   "codemirror_mode": {
    "name": "ipython",
    "version": 3
   },
   "file_extension": ".py",
   "mimetype": "text/x-python",
   "name": "python",
   "nbconvert_exporter": "python",
   "pygments_lexer": "ipython3",
   "version": "3.7.0"
  },
  "toc": {
   "base_numbering": 1,
   "nav_menu": {},
   "number_sections": true,
   "sideBar": true,
   "skip_h1_title": false,
   "title_cell": "Table of Contents",
   "title_sidebar": "Contents",
   "toc_cell": false,
   "toc_position": {},
   "toc_section_display": true,
   "toc_window_display": false
  }
 },
 "nbformat": 4,
 "nbformat_minor": 2
}
