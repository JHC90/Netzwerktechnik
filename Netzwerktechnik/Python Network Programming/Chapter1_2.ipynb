{
 "cells": [
  {
   "cell_type": "markdown",
   "metadata": {},
   "source": [
    "# Mitschrift zum Buch \"Python Network Programming Cookbook - Second Edition\"\n",
    "\n",
    "\n",
    "https://www.thalia.at/shop/home/artikeldetails/ID74920750.html?ProvID=11010474"
   ]
  },
  {
   "cell_type": "markdown",
   "metadata": {},
   "source": [
    "## Ziel\n",
    "Rückgabe der IP und den Namen der Maschine einer Remote Maschine\n",
    "<ul>\n",
    "    <li>rückgabe von Hosts die erreichbar sind</li>\n",
    "    <li>Error-Handling von nicht bekannten Namen</li>\n",
    "</ul>\n",
    "![title](imgs/Zeichnung2.jpg)\n",
    "\n",
    "Zum Remote habe ich zum Start des Labs nur den Namen\n"
   ]
  },
  {
   "cell_type": "code",
   "execution_count": 1,
   "metadata": {},
   "outputs": [],
   "source": [
    "# Sockets ist build-in => kein pip install\n",
    "import socket"
   ]
  },
  {
   "cell_type": "code",
   "execution_count": 17,
   "metadata": {},
   "outputs": [],
   "source": [
    "''' ggf einen Scan nach allen IP-Adresse im Lokalen Netz und von dort weg \n",
    "dann die Aufzeichennung der Info-Gathering\n",
    "'''\n",
    "testinglist = [\n",
    "    \"w1-241-18\",\n",
    "    \"w1-241-19\",\n",
    "    \"www.python.org\",\n",
    "    \"gibts-nicht.org/index.php\",\n",
    "    \"www.amazon.de\",\n",
    "    \"www.netflix.de\",\n",
    "    \"www.sueddeutsche.de\"\n",
    "    \"www.whatsapp.de\"\n",
    "]\n",
    "#print(testinglist)"
   ]
  },
  {
   "cell_type": "code",
   "execution_count": 18,
   "metadata": {},
   "outputs": [],
   "source": [
    "def get_remote_machine_info(incoming):\n",
    "    #remote_host = 'www.python.org'\n",
    "    remote_host = incoming\n",
    "    try:\n",
    "        print (\"IP address of %s: %s\" %(remote_host,\n",
    "        socket.gethostbyname(remote_host)))\n",
    "    except socket.error as err_msg:\n",
    "        print (\"%s: %s\" %(remote_host, err_msg))"
   ]
  },
  {
   "cell_type": "raw",
   "metadata": {},
   "source": [
    "get_remote_machine_info(\"w1-241-19\")"
   ]
  },
  {
   "cell_type": "code",
   "execution_count": 14,
   "metadata": {},
   "outputs": [
    {
     "name": "stdout",
     "output_type": "stream",
     "text": [
      "\n",
      "###---NEW ENTRY IN TESTINGLIST---###\n",
      "IP address of w1-241-18: 172.23.12.161\n",
      "\n",
      "###---NEW ENTRY IN TESTINGLIST---###\n",
      "IP address of w1-241-19: 192.168.102.41\n",
      "\n",
      "###---NEW ENTRY IN TESTINGLIST---###\n",
      "IP address of www.python.org: 151.101.36.223\n",
      "\n",
      "###---NEW ENTRY IN TESTINGLIST---###\n",
      "gibts-nicht.org/index.php: [Errno 11001] getaddrinfo failed\n",
      "\n",
      "###---NEW ENTRY IN TESTINGLIST---###\n",
      "IP address of www.amazon.de: 99.86.233.60\n",
      "\n",
      "###---NEW ENTRY IN TESTINGLIST---###\n",
      "IP address of www.netflix.de: 34.252.114.84\n",
      "\n",
      "###---NEW ENTRY IN TESTINGLIST---###\n",
      "IP address of www.whatsapp.de: 72.52.10.14\n"
     ]
    }
   ],
   "source": [
    "for i in range(0,len(testinglist),1):\n",
    "    print()\n",
    "    print(\"###---NEW ENTRY IN TESTINGLIST---###\")\n",
    "    get_remote_machine_info(testinglist[i])\n",
    "    "
   ]
  },
  {
   "cell_type": "markdown",
   "metadata": {},
   "source": [
    "<hr>\n",
    "<hr>\n",
    "<hr>\n",
    "# Here the System and packages I Used for creating this Notebook"
   ]
  },
  {
   "cell_type": "code",
   "execution_count": 5,
   "metadata": {},
   "outputs": [
    {
     "name": "stdout",
     "output_type": "stream",
     "text": [
      "nt\n",
      "Windows\n",
      "10\n"
     ]
    }
   ],
   "source": [
    "import os\n",
    "print(os.name)\n",
    "import platform\n",
    "print(platform.system())\n",
    "print(platform.release())"
   ]
  },
  {
   "cell_type": "code",
   "execution_count": null,
   "metadata": {},
   "outputs": [],
   "source": []
  }
 ],
 "metadata": {
  "kernelspec": {
   "display_name": "Python 3",
   "language": "python",
   "name": "python3"
  },
  "language_info": {
   "codemirror_mode": {
    "name": "ipython",
    "version": 3
   },
   "file_extension": ".py",
   "mimetype": "text/x-python",
   "name": "python",
   "nbconvert_exporter": "python",
   "pygments_lexer": "ipython3",
   "version": "3.6.5"
  }
 },
 "nbformat": 4,
 "nbformat_minor": 2
}
