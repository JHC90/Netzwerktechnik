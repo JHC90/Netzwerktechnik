{
 "cells": [
  {
   "cell_type": "markdown",
   "metadata": {},
   "source": [
    "# Concept\n",
    "\n",
    "* login to your firtzbox capture interface on \" https://\"YOUR_IP\"/html/capture.html \"(e.g. \"https://192.168.178.100/html/capture.html\" ) and enter your password for your firtzbox \n",
    "![title](imgs/Fritzbox1.png)\n",
    "\n",
    "* this will create a file with the type \".pcap\", this coudl be red by e.g. wireshark"
   ]
  }
 ],
 "metadata": {
  "kernelspec": {
   "display_name": "Python 3",
   "language": "python",
   "name": "python3"
  },
  "language_info": {
   "codemirror_mode": {
    "name": "ipython",
    "version": 3
   },
   "file_extension": ".py",
   "mimetype": "text/x-python",
   "name": "python",
   "nbconvert_exporter": "python",
   "pygments_lexer": "ipython3",
   "version": "3.7.5"
  }
 },
 "nbformat": 4,
 "nbformat_minor": 2
}
