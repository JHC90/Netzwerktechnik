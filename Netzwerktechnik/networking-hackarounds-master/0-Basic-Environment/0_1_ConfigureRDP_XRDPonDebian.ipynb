{
 "cells": [
  {
   "cell_type": "markdown",
   "metadata": {},
   "source": [
    "# Teaser Remote Control\n",
    "Due the situation that I am working with virtual remote distros it might make sence to be able to remote controll the external Debian via RDP from my Windows laptop:\n",
    "\n",
    "Benefits: \n",
    "* possible to Copy&Paste content from my Windows-Host to the remote Debian (strings & whole files) "
   ]
  },
  {
   "cell_type": "markdown",
   "metadata": {},
   "source": [
    "# Installation\n",
    "I worked with the tutorial of \" https://msitpros.com/?p=3209 \":\n",
    "\n",
    "Comands for installation:\n",
    "\n",
    "\n",
    "* sudo apt-get update && apt-get upgrade\n",
    "* sudo apt-get dist-upgrade\n",
    "* sudo apt-get install xrdp\n",
    "<hr>\n",
    "\n",
    "Comands for starting xrdp:\n",
    "\n",
    "* Service xrdp start\n",
    "* Service xrdp-sesman start  \n",
    "* update-rc.d xrdp enable    #If want it to auto start after reboot you need to run this command also\n",
    "\n",
    "<hr>\n",
    "\n",
    "\n",
    "With this done you should be able to RDP from windows to remote Debian => Trouble because nothing is loading in the \n",
    "\"sign-in-Process\" via RDP => Troubleshooting\n"
   ]
  },
  {
   "cell_type": "markdown",
   "metadata": {},
   "source": [
    "# Trouble-Shooting\n",
    "\n",
    "Solution: Change the Graphcial-Frontend\n",
    "* apt-get remove gnome-core\n",
    "* apt-get install lxde-core lxde kali-defaults kali-root-login desktop-base\n",
    "* update-alternatives –config x-session-manager\n",
    "        Choose /usr/bin/startlxde\n",
    "\n",
    "After this you need to reboot the whole system and the RDP should work “perfectly”"
   ]
  },
  {
   "cell_type": "markdown",
   "metadata": {},
   "source": [
    "<hr>\n",
    "<hr>\n",
    "<hr>\n",
    "\n",
    "# Here the System and packages I Used for creating this Notebook"
   ]
  },
  {
   "cell_type": "code",
   "execution_count": 12,
   "metadata": {},
   "outputs": [
    {
     "name": "stdout",
     "output_type": "stream",
     "text": [
      "posix\n",
      "Linux\n",
      "5.3.0-kali1-amd64\n",
      "python-version: 3.7.5\n"
     ]
    }
   ],
   "source": [
    "import os\n",
    "import platform\n",
    "print(os.name)\n",
    "print(platform.system())\n",
    "print(platform.release())\n",
    "print(\"python-version: \" + platform.python_version())\n",
    "# Anaconda Version"
   ]
  }
 ],
 "metadata": {
  "kernelspec": {
   "display_name": "Python 3",
   "language": "python",
   "name": "python3"
  },
  "language_info": {
   "codemirror_mode": {
    "name": "ipython",
    "version": 3
   },
   "file_extension": ".py",
   "mimetype": "text/x-python",
   "name": "python",
   "nbconvert_exporter": "python",
   "pygments_lexer": "ipython3",
   "version": "3.7.5"
  }
 },
 "nbformat": 4,
 "nbformat_minor": 2
}
