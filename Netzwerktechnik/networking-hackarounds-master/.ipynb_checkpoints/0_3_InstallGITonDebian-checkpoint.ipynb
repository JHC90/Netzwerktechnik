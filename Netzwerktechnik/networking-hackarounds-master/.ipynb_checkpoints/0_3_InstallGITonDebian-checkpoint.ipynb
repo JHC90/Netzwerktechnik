{
 "cells": [
  {
   "cell_type": "markdown",
   "metadata": {},
   "source": [
    "# Git\n",
    "GIT is the tool for Version-Controlling in Development tasks"
   ]
  },
  {
   "cell_type": "markdown",
   "metadata": {},
   "source": [
    "# Install Git in Linux\n",
    "\n",
    "I used following tutorial: \" https://www.digitalocean.com/community/tutorials/how-to-install-git-on-debian-9 \" \n",
    "\n",
    "* sudo apt-get update && upgrade && dist-upgrade\n",
    "* sudo apt-get install git\n",
    "* git --version\n",
    "\n",
    "with this the Git-Commands are integraded in the Linux Bash"
   ]
  },
  {
   "cell_type": "markdown",
   "metadata": {},
   "source": [
    "Check my own Git-Commands-Repo:"
   ]
  },
  {
   "cell_type": "markdown",
   "metadata": {},
   "source": [
    "<hr>\n",
    "<hr>\n",
    "<hr>\n",
    "\n",
    "# Here the System and packages I Used for creating this Notebook"
   ]
  },
  {
   "cell_type": "code",
   "execution_count": 2,
   "metadata": {},
   "outputs": [
    {
     "name": "stdout",
     "output_type": "stream",
     "text": [
      "posix\n",
      "Linux\n",
      "5.3.0-kali1-amd64\n",
      "python-version: 3.7.5\n"
     ]
    }
   ],
   "source": [
    "import os\n",
    "import platform\n",
    "print(os.name)\n",
    "print(platform.system())\n",
    "print(platform.release())\n",
    "print(\"python-version: \" + platform.python_version())\n",
    "# Anaconda Version"
   ]
  }
 ],
 "metadata": {
  "kernelspec": {
   "display_name": "Python 3",
   "language": "python",
   "name": "python3"
  },
  "language_info": {
   "codemirror_mode": {
    "name": "ipython",
    "version": 3
   },
   "file_extension": ".py",
   "mimetype": "text/x-python",
   "name": "python",
   "nbconvert_exporter": "python",
   "pygments_lexer": "ipython3",
   "version": "3.7.5"
  }
 },
 "nbformat": 4,
 "nbformat_minor": 2
}
