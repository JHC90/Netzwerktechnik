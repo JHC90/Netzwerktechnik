{
 "cells": [
  {
   "cell_type": "markdown",
   "metadata": {},
   "source": [
    "https://secdevops.ai/learning-packet-analysis-with-data-science-5356a3340d4e\n",
    "    \n",
    "https://github.com/secdevopsai/Packet-Analytics/blob/master/Packet-Analytics.ipynb    "
   ]
  },
  {
   "cell_type": "code",
   "execution_count": 12,
   "metadata": {},
   "outputs": [],
   "source": [
    "import pandas as pd # Pandas - Create and Manipulate DataFrames\n",
    "import numpy as np # Math Stuff (don't worry only used for one line :] )\n",
    "import binascii # Binary to Ascii \n",
    "import seaborn as sns\n",
    "sns.set(color_codes=True)\n",
    "from scapy.all import * # Packet manipulation\n",
    "%matplotlib inline"
   ]
  },
  {
   "cell_type": "markdown",
   "metadata": {},
   "source": [
    "# Error Message\n",
    "i was not able to load the package scapy because it was missing the wincap system. this system is not maintained any more, so i checkout the if it is still running.\n",
    "\n",
    "https://www.winpcap.org/install/default.htm"
   ]
  },
  {
   "cell_type": "code",
   "execution_count": 13,
   "metadata": {},
   "outputs": [
    {
     "ename": "RuntimeError",
     "evalue": "Sniffing and sending packets is not available at layer 2: winpcap is not installed. You may use conf.L3socket orconf.L3socket6 to access layer 3",
     "output_type": "error",
     "traceback": [
      "\u001b[1;31m---------------------------------------------------------------------------\u001b[0m",
      "\u001b[1;31mRuntimeError\u001b[0m                              Traceback (most recent call last)",
      "\u001b[1;32m<ipython-input-13-d50aca5dd1eb>\u001b[0m in \u001b[0;36m<module>\u001b[1;34m\u001b[0m\n\u001b[0;32m      1\u001b[0m \u001b[0mnum_of_packets_to_sniff\u001b[0m \u001b[1;33m=\u001b[0m \u001b[1;36m100\u001b[0m\u001b[1;33m\u001b[0m\u001b[1;33m\u001b[0m\u001b[0m\n\u001b[1;32m----> 2\u001b[1;33m \u001b[0mpcap\u001b[0m \u001b[1;33m=\u001b[0m \u001b[0msniff\u001b[0m\u001b[1;33m(\u001b[0m\u001b[0mcount\u001b[0m\u001b[1;33m=\u001b[0m\u001b[0mnum_of_packets_to_sniff\u001b[0m\u001b[1;33m)\u001b[0m\u001b[1;33m\u001b[0m\u001b[1;33m\u001b[0m\u001b[0m\n\u001b[0m\u001b[0;32m      3\u001b[0m \u001b[1;33m\u001b[0m\u001b[0m\n\u001b[0;32m      4\u001b[0m \u001b[1;31m# rdpcap returns packet list\u001b[0m\u001b[1;33m\u001b[0m\u001b[1;33m\u001b[0m\u001b[1;33m\u001b[0m\u001b[0m\n\u001b[0;32m      5\u001b[0m \u001b[1;31m## packetlist object can be enumerated\u001b[0m\u001b[1;33m\u001b[0m\u001b[1;33m\u001b[0m\u001b[1;33m\u001b[0m\u001b[0m\n",
      "\u001b[1;32m~\\.conda\\envs\\PythonHacking\\lib\\site-packages\\scapy\\sendrecv.py\u001b[0m in \u001b[0;36msniff\u001b[1;34m(*args, **kwargs)\u001b[0m\n\u001b[0;32m    970\u001b[0m \u001b[1;32mdef\u001b[0m \u001b[0msniff\u001b[0m\u001b[1;33m(\u001b[0m\u001b[1;33m*\u001b[0m\u001b[0margs\u001b[0m\u001b[1;33m,\u001b[0m \u001b[1;33m**\u001b[0m\u001b[0mkwargs\u001b[0m\u001b[1;33m)\u001b[0m\u001b[1;33m:\u001b[0m\u001b[1;33m\u001b[0m\u001b[1;33m\u001b[0m\u001b[0m\n\u001b[0;32m    971\u001b[0m     \u001b[0msniffer\u001b[0m \u001b[1;33m=\u001b[0m \u001b[0mAsyncSniffer\u001b[0m\u001b[1;33m(\u001b[0m\u001b[1;33m)\u001b[0m\u001b[1;33m\u001b[0m\u001b[1;33m\u001b[0m\u001b[0m\n\u001b[1;32m--> 972\u001b[1;33m     \u001b[0msniffer\u001b[0m\u001b[1;33m.\u001b[0m\u001b[0m_run\u001b[0m\u001b[1;33m(\u001b[0m\u001b[1;33m*\u001b[0m\u001b[0margs\u001b[0m\u001b[1;33m,\u001b[0m \u001b[1;33m**\u001b[0m\u001b[0mkwargs\u001b[0m\u001b[1;33m)\u001b[0m\u001b[1;33m\u001b[0m\u001b[1;33m\u001b[0m\u001b[0m\n\u001b[0m\u001b[0;32m    973\u001b[0m     \u001b[1;32mreturn\u001b[0m \u001b[0msniffer\u001b[0m\u001b[1;33m.\u001b[0m\u001b[0mresults\u001b[0m\u001b[1;33m\u001b[0m\u001b[1;33m\u001b[0m\u001b[0m\n\u001b[0;32m    974\u001b[0m \u001b[1;33m\u001b[0m\u001b[0m\n",
      "\u001b[1;32m~\\.conda\\envs\\PythonHacking\\lib\\site-packages\\scapy\\sendrecv.py\u001b[0m in \u001b[0;36m_run\u001b[1;34m(self, count, store, offline, prn, lfilter, L2socket, timeout, opened_socket, stop_filter, iface, started_callback, session, session_args, session_kwargs, *arg, **karg)\u001b[0m\n\u001b[0;32m    840\u001b[0m             \u001b[1;32melse\u001b[0m\u001b[1;33m:\u001b[0m\u001b[1;33m\u001b[0m\u001b[1;33m\u001b[0m\u001b[0m\n\u001b[0;32m    841\u001b[0m                 sniff_sockets[L2socket(type=ETH_P_ALL, iface=iface,\n\u001b[1;32m--> 842\u001b[1;33m                                        *arg, **karg)] = iface\n\u001b[0m\u001b[0;32m    843\u001b[0m \u001b[1;33m\u001b[0m\u001b[0m\n\u001b[0;32m    844\u001b[0m         \u001b[1;31m# Get select information from the sockets\u001b[0m\u001b[1;33m\u001b[0m\u001b[1;33m\u001b[0m\u001b[1;33m\u001b[0m\u001b[0m\n",
      "\u001b[1;32m~\\.conda\\envs\\PythonHacking\\lib\\site-packages\\scapy\\arch\\windows\\__init__.py\u001b[0m in \u001b[0;36m__init__\u001b[1;34m(self, *args, **kargs)\u001b[0m\n\u001b[0;32m   1067\u001b[0m     \u001b[1;32mdef\u001b[0m \u001b[0m__init__\u001b[0m\u001b[1;33m(\u001b[0m\u001b[0mself\u001b[0m\u001b[1;33m,\u001b[0m \u001b[1;33m*\u001b[0m\u001b[0margs\u001b[0m\u001b[1;33m,\u001b[0m \u001b[1;33m**\u001b[0m\u001b[0mkargs\u001b[0m\u001b[1;33m)\u001b[0m\u001b[1;33m:\u001b[0m\u001b[1;33m\u001b[0m\u001b[1;33m\u001b[0m\u001b[0m\n\u001b[0;32m   1068\u001b[0m         raise RuntimeError(\n\u001b[1;32m-> 1069\u001b[1;33m             \u001b[1;34m\"Sniffing and sending packets is not available at layer 2: \"\u001b[0m\u001b[1;33m\u001b[0m\u001b[1;33m\u001b[0m\u001b[0m\n\u001b[0m\u001b[0;32m   1070\u001b[0m             \u001b[1;34m\"winpcap is not installed. You may use conf.L3socket or\"\u001b[0m\u001b[1;33m\u001b[0m\u001b[1;33m\u001b[0m\u001b[0m\n\u001b[0;32m   1071\u001b[0m             \u001b[1;34m\"conf.L3socket6 to access layer 3\"\u001b[0m\u001b[1;33m\u001b[0m\u001b[1;33m\u001b[0m\u001b[0m\n",
      "\u001b[1;31mRuntimeError\u001b[0m: Sniffing and sending packets is not available at layer 2: winpcap is not installed. You may use conf.L3socket orconf.L3socket6 to access layer 3"
     ]
    }
   ],
   "source": [
    "num_of_packets_to_sniff = 100\n",
    "pcap = sniff\n",
    "\n",
    "# rdpcap returns packet list\n",
    "## packetlist object can be enumerated \n",
    "print(type(pcap))\n",
    "print(len(pcap))\n",
    "print(pcap)\n",
    "pcap[0]"
   ]
  },
  {
   "cell_type": "code",
   "execution_count": 10,
   "metadata": {},
   "outputs": [
    {
     "name": "stdout",
     "output_type": "stream",
     "text": [
      "ASN1_default_codec = <ASN1Codec BER[1]>\n",
      "AS_resolver = <scapy.as_resolvers.AS_resolver_multi object at 0x000001A5E9AE...\n",
      "BTsocket   = <BluetoothRFCommSocket: read/write packets on a connected L2CAP...\n",
      "L2listen   = <_NotAvailableSocket: wpcap.dll missing>\n",
      "L2socket   = <_NotAvailableSocket: wpcap.dll missing>\n",
      "L3socket   = <L3WinSocket: a native Layer 3 (IPv4) raw socket under Windows>\n",
      "L3socket6  = <L3WinSocket6: a native Layer 3 (IPv6) raw socket under Windows>\n",
      "USBsocket  = None\n",
      "auto_crop_tables = True\n",
      "auto_fragment = True\n",
      "bufsize    = 65536\n",
      "cache_iflist = {}\n",
      "checkIPID  = False\n",
      "checkIPaddr = True\n",
      "checkIPinIP = True\n",
      "checkIPsrc = True\n",
      "check_TCPerror_seqack = False\n",
      "color_theme = <NoTheme>\n",
      "commands   = IPID_count : Identify IP id values classes in a list of packets...\n",
      "contribs   = {}\n",
      "crypto_valid = True\n",
      "crypto_valid_advanced = True\n",
      "crypto_valid_recent = True\n",
      "debug_dissector = False\n",
      "debug_match = False\n",
      "debug_tls  = False\n",
      "default_l2 = <class 'scapy.packet.Raw'>\n",
      "dot15d4_protocol = None\n",
      "emph       = <Emphasize []>\n",
      "except_filter = ''\n",
      "extensions_paths = '.'\n",
      "fancy_prompt = True\n",
      "geoip_city = None\n",
      "histfile   = 'C:\\\\Users\\\\Python-Server-64\\\\.scapy_history'\n",
      "iface      = <NetworkInterface [Microsoft Hyper-V Network Adapter] {CC990CD3...\n",
      "iface6     = None\n",
      "interactive = False\n",
      "interactive_shell = ''\n",
      "ipv6_enabled = True\n",
      "l2types    = 0x0 -> Loopback (Loopback) 0x1 <- Dot3 (802.3) 0x1 <-> Ether (E...\n",
      "l3types    = 0x3 -> IP (IP) 0x800 <-> IP (IP) 0x806 <-> ARP (ARP) 0x86dd <->...\n",
      "layers     = Packet : <member 'name' of 'Packet' objects> NoPayload : <membe...\n",
      "load_layers = ['bluetooth', 'bluetooth4LE', 'dhcp', 'dhcp6', 'dns', 'dot11',...\n",
      "logLevel   = 30\n",
      "mib        = <MIB - 343 elements>\n",
      "min_pkt_size = 60\n",
      "neighbor   = Ether -> LLC Dot3 -> LLC Dot3 -> SNAP Ether -> Dot1Q Ether -> A...\n",
      "netcache   = arp_cache: 0 valid items. Timeout=120s in6_neighbor: 0 valid it...\n",
      "noenum     = <Resolve []>\n",
      "padding    = 1\n",
      "padding_layer = <class 'scapy.packet.Padding'>\n",
      "prog       = cmd = 'C:\\\\Windows\\\\system32\\\\cmd.exe' cscript = 'C:\\\\Windows\\\\...\n",
      "promisc    = True\n",
      "prompt     = '>>> '\n",
      "raw_layer  = <class 'scapy.packet.Raw'>\n",
      "raw_summary = False\n",
      "recv_poll_rate = 0.05\n",
      "resolve    = <Resolve []>\n",
      "route      = Network Netmask Gateway Iface Output IP Metric 0.0.0.0 0.0.0.0 ...\n",
      "route6     = Destination Next Hop Iface Src candidates Metric fe80::/16 :: M...\n",
      "session    = ''\n",
      "sniff_promisc = 1\n",
      "stats_classic_protocols = [<class 'scapy.layers.inet.TCP'>, <class 'scapy.la...\n",
      "stats_dot11_protocols = [<class 'scapy.layers.inet.TCP'>, <class 'scapy.laye...\n",
      "stealth    = 'not implemented'\n",
      "temp_files = []\n",
      "teredoPrefix = '2001::'\n",
      "teredoServerPort = 3544\n",
      "use_bpf    = False\n",
      "use_dnet   = False\n",
      "use_npcap  = False\n",
      "use_pcap   = False\n",
      "use_pypy   = False\n",
      "verb       = 2\n",
      "version    = '2.4.3'\n",
      "warning_threshold = 5\n",
      "wepkey     = ''\n"
     ]
    }
   ],
   "source": [
    "print(conf)"
   ]
  }
 ],
 "metadata": {
  "kernelspec": {
   "display_name": "Python 3",
   "language": "python",
   "name": "python3"
  },
  "language_info": {
   "codemirror_mode": {
    "name": "ipython",
    "version": 3
   },
   "file_extension": ".py",
   "mimetype": "text/x-python",
   "name": "python",
   "nbconvert_exporter": "python",
   "pygments_lexer": "ipython3",
   "version": "3.7.4"
  }
 },
 "nbformat": 4,
 "nbformat_minor": 2
}
