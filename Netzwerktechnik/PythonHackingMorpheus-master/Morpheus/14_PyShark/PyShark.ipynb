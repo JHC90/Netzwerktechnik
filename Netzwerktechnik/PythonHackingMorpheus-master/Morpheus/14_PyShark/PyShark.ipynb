{
 "cells": [
  {
   "cell_type": "code",
   "execution_count": null,
   "metadata": {},
   "outputs": [],
   "source": [
    "from IPython.display import YouTubeVideo\n",
    "\n",
    "def display_yotube_video(url, **kwargs):\n",
    "    \"\"\"\n",
    "    Displays a Youtube video in a Jupyter notebook.\n",
    "    \n",
    "    Args:\n",
    "        url (string): a link to a Youtube video.\n",
    "        **kwargs: further arguments for IPython.display.YouTubeVideo\n",
    "    \n",
    "    Returns:\n",
    "        YouTubeVideo: a video that is displayed in your notebook.\n",
    "    \"\"\"\n",
    "    id_ = url.split(\"=\")[-1]\n",
    "    return YouTubeVideo(id_, **kwargs)\n",
    "\n",
    "display_yotube_video(\"https://www.youtube.com/watch?v=G3J7icBSAkU\", width=800, height=600)"
   ]
  },
  {
   "cell_type": "markdown",
   "metadata": {},
   "source": [
    "ggf zuvor auf der Konsole in der Anaconda nochmals den Pip install ausführen"
   ]
  },
  {
   "cell_type": "markdown",
   "metadata": {},
   "source": [
    "das läuft unter Linux nicht unter windows...hier im Jupyter nur die Zeilen übernommen \n",
    "\n",
    "Wireshark || capture & sniff network GUI\n",
    "Tshark || GUI interface for wireshark => per cmd / bash etc\n",
    "pyshark || via python auf tshark => wireshark elemente\n",
    "\n",
    "# um hier vorwärts zu kommen brauchts das Wireshark tutorial\n",
    "\n",
    "\n"
   ]
  },
  {
   "cell_type": "code",
   "execution_count": null,
   "metadata": {},
   "outputs": [],
   "source": [
    "import pyshark"
   ]
  },
  {
   "cell_type": "code",
   "execution_count": null,
   "metadata": {},
   "outputs": [],
   "source": [
    "# einlesen von Files\n",
    "# cap = pyshark.FileCapture(*.cap)"
   ]
  },
  {
   "cell_type": "code",
   "execution_count": null,
   "metadata": {},
   "outputs": [],
   "source": [
    "# Basis für Sniff erstellen\n",
    "cap = pyshark.LiveCapture(interface='eth0')"
   ]
  },
  {
   "cell_type": "code",
   "execution_count": null,
   "metadata": {},
   "outputs": [],
   "source": [
    "# Selbst sniff erstellen via Zeit\n",
    "cap.sniff(timeout=3) # Hier via Zeit"
   ]
  },
  {
   "cell_type": "code",
   "execution_count": null,
   "metadata": {},
   "outputs": [],
   "source": [
    "# Sniff erstellen via Anzahl Packete\n",
    "# cap.sniff_continuously(self, packet_count = 5)"
   ]
  },
  {
   "cell_type": "code",
   "execution_count": null,
   "metadata": {},
   "outputs": [],
   "source": [
    "# sniff kontinuierlich und jedes Package analyseren\n",
    "''' \n",
    "for packet in cap.sniff_continuously():  # endlosschleife => strg +c für Abbruch\n",
    "    print(\"New-Package\") # hier die Analyseaufruf\n",
    "'''"
   ]
  },
  {
   "cell_type": "code",
   "execution_count": null,
   "metadata": {},
   "outputs": [],
   "source": [
    "# zeigt alle klassenvariablen des Packets # Zeigt alle Klassenvariablen des packetes\n",
    "#print(vars(cap[0]))\n",
    "''' ausgabe de ranzahl der Klassenvariablen je package\n",
    "for i in (0, len(cap)-1 , 1):\n",
    "    #print(vars(cap[i]))\n",
    "    print(vars(cap[i]))\n",
    "    print(\"\\n\\n\")\n",
    "'''"
   ]
  },
  {
   "cell_type": "code",
   "execution_count": null,
   "metadata": {},
   "outputs": [],
   "source": [
    "# zugriff auf bestimmten layer innerhalb der Packages\n",
    "print(cap[0].layers[0]) # Ausgabe des ersten Packets, den ETH layer(0)\n",
    "# print(cap[0]['ETH']) # Gleich wie die obere Zeile, nur ZUgriff via Assoziatives Array\n",
    "'''"
   ]
  },
  {
   "cell_type": "code",
   "execution_count": null,
   "metadata": {},
   "outputs": [],
   "source": []
  }
 ],
 "metadata": {
  "kernelspec": {
   "display_name": "Python 3",
   "language": "python",
   "name": "python3"
  },
  "language_info": {
   "codemirror_mode": {
    "name": "ipython",
    "version": 3
   },
   "file_extension": ".py",
   "mimetype": "text/x-python",
   "name": "python",
   "nbconvert_exporter": "python",
   "pygments_lexer": "ipython3",
   "version": "3.7.4"
  }
 },
 "nbformat": 4,
 "nbformat_minor": 2
}
