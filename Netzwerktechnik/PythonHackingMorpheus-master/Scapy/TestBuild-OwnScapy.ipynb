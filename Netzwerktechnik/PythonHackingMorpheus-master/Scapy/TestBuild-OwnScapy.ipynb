{
 "cells": [
  {
   "cell_type": "markdown",
   "metadata": {},
   "source": [
    "https://scapy.readthedocs.io/en/latest/usage.html"
   ]
  },
  {
   "cell_type": "code",
   "execution_count": 5,
   "metadata": {},
   "outputs": [],
   "source": [
    "from scapy.all import * # Packet manipulation\n",
    "import pandas as pd # Pandas - Create and Manipulate DataFrames\n",
    "import numpy as np # Math Stuff (don't worry only used for one line :] )\n",
    "import binascii # Binary to Ascii \n",
    "import seaborn as sns\n",
    "sns.set(color_codes=True)\n",
    "%matplotlib inline"
   ]
  },
  {
   "cell_type": "code",
   "execution_count": 9,
   "metadata": {},
   "outputs": [
    {
     "name": "stdout",
     "output_type": "stream",
     "text": [
      "b\"\\xb8'\\xeb\\xfeg;\\x00\\x15]\\xc7\\x00\\x12\\x08\\x00E\\x00\\x00(\\x83m@\\x00\\x80\\x06\\x00\\x00\\xc0\\xa8\\xb2@\\xc0\\xa8\\xb2=\\r=\\x18\\xe5-Mo\\xbc\\x0c[\\xf8%P\\x10\\xf8\\x9a\\xe5\\xe9\\x00\\x00\"\n",
      "0000  B8 27 EB FE 67 3B 00 15 5D C7 00 12 08 00 45 00  .'..g;..].....E.\n",
      "0010  00 28 83 6D 40 00 80 06 00 00 C0 A8 B2 40 C0 A8  .(.m@........@..\n",
      "0020  B2 3D 0D 3D 18 E5 2D 4D 6F BC 0C 5B F8 25 50 10  .=.=..-Mo..[.%P.\n",
      "0030  F8 9A E5 E9 00 00                                ......\n"
     ]
    }
   ],
   "source": [
    "# start sniffing\n",
    "num_of_packets_to_sniff = 3 # just 100 packages\n",
    "pcap = sniff(count=num_of_packets_to_sniff) # Start sniffing\n",
    "print(pcap[0])\n",
    "pkt = pcap[0]\n",
    "hexdump(pkt[0])"
   ]
  },
  {
   "cell_type": "markdown",
   "metadata": {},
   "source": [
    "# Building own packages"
   ]
  },
  {
   "cell_type": "code",
   "execution_count": 3,
   "metadata": {},
   "outputs": [
    {
     "data": {
      "text/plain": [
       "<IP  ttl=10 |>"
      ]
     },
     "execution_count": 3,
     "metadata": {},
     "output_type": "execute_result"
    }
   ],
   "source": [
    "# building own packages\n",
    "a=IP(ttl=10)\n",
    "a"
   ]
  },
  {
   "cell_type": "code",
   "execution_count": 4,
   "metadata": {},
   "outputs": [
    {
     "data": {
      "text/plain": [
       "'192.168.178.64'"
      ]
     },
     "execution_count": 4,
     "metadata": {},
     "output_type": "execute_result"
    }
   ],
   "source": [
    "a.src "
   ]
  },
  {
   "cell_type": "code",
   "execution_count": 5,
   "metadata": {},
   "outputs": [],
   "source": [
    "a.dst=\"192.168.1.1\""
   ]
  },
  {
   "cell_type": "code",
   "execution_count": 6,
   "metadata": {},
   "outputs": [
    {
     "data": {
      "text/plain": [
       "<IP  ttl=10 dst=192.168.1.1 |>"
      ]
     },
     "execution_count": 6,
     "metadata": {},
     "output_type": "execute_result"
    }
   ],
   "source": [
    "a"
   ]
  },
  {
   "cell_type": "code",
   "execution_count": 7,
   "metadata": {},
   "outputs": [
    {
     "data": {
      "text/plain": [
       "'192.168.178.64'"
      ]
     },
     "execution_count": 7,
     "metadata": {},
     "output_type": "execute_result"
    }
   ],
   "source": [
    "a.src"
   ]
  },
  {
   "cell_type": "code",
   "execution_count": 8,
   "metadata": {},
   "outputs": [
    {
     "data": {
      "text/plain": [
       "<IP  dst=192.168.1.1 |>"
      ]
     },
     "execution_count": 8,
     "metadata": {},
     "output_type": "execute_result"
    }
   ],
   "source": [
    "del(a.ttl)\n",
    "a"
   ]
  },
  {
   "cell_type": "code",
   "execution_count": 9,
   "metadata": {},
   "outputs": [
    {
     "data": {
      "text/plain": [
       "64"
      ]
     },
     "execution_count": 9,
     "metadata": {},
     "output_type": "execute_result"
    }
   ],
   "source": [
    "a.ttl"
   ]
  },
  {
   "cell_type": "markdown",
   "metadata": {},
   "source": [
    "# Reading files"
   ]
  },
  {
   "cell_type": "code",
   "execution_count": 10,
   "metadata": {},
   "outputs": [],
   "source": [
    "a=rdpcap(\"testwiresharkmuc.pcap\")"
   ]
  },
  {
   "cell_type": "code",
   "execution_count": 11,
   "metadata": {},
   "outputs": [
    {
     "data": {
      "text/plain": [
       "28108"
      ]
     },
     "execution_count": 11,
     "metadata": {},
     "output_type": "execute_result"
    }
   ],
   "source": [
    "len(a)"
   ]
  },
  {
   "cell_type": "code",
   "execution_count": 12,
   "metadata": {},
   "outputs": [
    {
     "name": "stdout",
     "output_type": "stream",
     "text": [
      "\n"
     ]
    }
   ],
   "source": [
    "# for pdfdump you need the pyx, which is an interface for the tex-system (latex)\n",
    "# https://pypi.org/project/PyX/\n",
    "# https://miktex.org/download\n",
    "#a[28000].pdfdump(layer_shift=1)\n",
    "a[28000].pdfdump(\"test.pdf\")\n",
    "\n",
    "# check the file out in the directory"
   ]
  },
  {
   "cell_type": "code",
   "execution_count": 13,
   "metadata": {},
   "outputs": [
    {
     "name": "stdout",
     "output_type": "stream",
     "text": [
      "<class 'scapy.plist.PacketList'>\n"
     ]
    }
   ],
   "source": [
    "print(type(a))"
   ]
  },
  {
   "cell_type": "code",
   "execution_count": 14,
   "metadata": {},
   "outputs": [
    {
     "data": {
      "text/plain": [
       "<Ether  dst=3c:a9:f4:0a:2b:bc src=98:9b:cb:05:b6:4d type=IPv4 |<IP  version=4 ihl=5 tos=0x0 len=89 id=40244 flags=DF frag=0 ttl=55 proto=udp chksum=0xd186 src=188.195.164.88 dst=192.168.179.20 |<UDP  sport=1194 dport=62535 len=69 chksum=0x8a11 |<Raw  load='1\\x00\\x03\\xdf\\xa7yN\\x1dH5\\x00!\\x93\\xaa\\x00F\\xf9%\\xb1\\xd5\\xf5>b\\xed\\xe4\\x87)\\xefI\\xf3\\x05uqnv\\x8e\\xcc\\x03\\xf4\\xbb\\x81\\x1f\\x13\\xaf\\xefl\\xc5\\xbcpW~\\xa2QHi\\xd1p\\x12B\\xe7\\xf0' |>>>>"
      ]
     },
     "execution_count": 14,
     "metadata": {},
     "output_type": "execute_result"
    }
   ],
   "source": [
    "a[0]"
   ]
  }
 ],
 "metadata": {
  "kernelspec": {
   "display_name": "Python 3",
   "language": "python",
   "name": "python3"
  },
  "language_info": {
   "codemirror_mode": {
    "name": "ipython",
    "version": 3
   },
   "file_extension": ".py",
   "mimetype": "text/x-python",
   "name": "python",
   "nbconvert_exporter": "python",
   "pygments_lexer": "ipython3",
   "version": "3.7.4"
  }
 },
 "nbformat": 4,
 "nbformat_minor": 2
}
