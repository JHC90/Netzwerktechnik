{
 "cells": [
  {
   "cell_type": "code",
   "execution_count": 7,
   "metadata": {},
   "outputs": [],
   "source": [
    "from scapy.all import *"
   ]
  },
  {
   "cell_type": "code",
   "execution_count": 8,
   "metadata": {},
   "outputs": [],
   "source": [
    "# Sniff erstellen\n",
    "num_of_packets_to_sniff = 10 # just 100 packages\n",
    "pcap = sniff(count=num_of_packets_to_sniff) # Start sniffing"
   ]
  },
  {
   "cell_type": "code",
   "execution_count": 10,
   "metadata": {},
   "outputs": [
    {
     "name": "stdout",
     "output_type": "stream",
     "text": [
      "10\n"
     ]
    }
   ],
   "source": [
    "print(len(pcap))"
   ]
  },
  {
   "cell_type": "code",
   "execution_count": 11,
   "metadata": {},
   "outputs": [
    {
     "name": "stdout",
     "output_type": "stream",
     "text": [
      "0000  B8 27 EB FE 67 3B 00 15 5D C7 00 12 08 00 45 00  .'..g;..].....E.\n",
      "0010  00 28 40 77 40 00 80 06 00 00 C0 A8 B2 40 C0 A8  .(@w@........@..\n",
      "0020  B2 3D 0D 3D 32 19 EA 61 22 05 5C 68 2C 1F 50 10  .=.=2..a\".\\h,.P.\n",
      "0030  F9 5E E5 E9 00 00                                .^....\n"
     ]
    }
   ],
   "source": [
    "'''pcap ist eine mehrdimensionale liste, welche in der \n",
    "ersten ebene nach den Packets aufteilt => aufbrechen der mehrdimenisionalen liste\n",
    "ine eine weitere Mehrdimensionale Liste mit dimension n-1\n",
    "dann ist jeder Listeneintrag ein PKG\n",
    "auf jeden Listeneintrag darauf kann dann ein Hexdump erstellt werden\n",
    "''' \n",
    "hexdump(pcap[0])"
   ]
  },
  {
   "cell_type": "code",
   "execution_count": 13,
   "metadata": {},
   "outputs": [
    {
     "name": "stdout",
     "output_type": "stream",
     "text": [
      "0000  B8 27 EB FE 67 3B 00 15 5D C7 00 12 08 00 45 00  .'..g;..].....E.\n",
      "0010  00 28 40 77 40 00 80 06 00 00 C0 A8 B2 40 C0 A8  .(@w@........@..\n",
      "0020  B2 3D 0D 3D 32 19 EA 61 22 05 5C 68 2C 1F 50 10  .=.=2..a\".\\h,.P.\n",
      "0030  F9 5E E5 E9 00 00                                .^....\n",
      "<class 'NoneType'>\n"
     ]
    }
   ],
   "source": [
    "pkt = pcap[0]\n",
    "print(type(hexdump(pkt[0])))"
   ]
  },
  {
   "cell_type": "code",
   "execution_count": 15,
   "metadata": {},
   "outputs": [
    {
     "name": "stdout",
     "output_type": "stream",
     "text": [
      "0000  B8 27 EB FE 67 3B 00 15 5D C7 00 12 08 00 45 00  .'..g;..].....E.\n",
      "0010  00 28 40 77 40 00 80 06 00 00 C0 A8 B2 40 C0 A8  .(@w@........@..\n",
      "0020  B2 3D 0D 3D 32 19 EA 61 22 05 5C 68 2C 1F 50 10  .=.=2..a\".\\h,.P.\n",
      "0030  F9 5E E5 E9 00 00                                .^....\n",
      "None\n"
     ]
    }
   ],
   "source": [
    "print(str(hexdump(pkt[0])))"
   ]
  }
 ],
 "metadata": {
  "kernelspec": {
   "display_name": "Python 3",
   "language": "python",
   "name": "python3"
  },
  "language_info": {
   "codemirror_mode": {
    "name": "ipython",
    "version": 3
   },
   "file_extension": ".py",
   "mimetype": "text/x-python",
   "name": "python",
   "nbconvert_exporter": "python",
   "pygments_lexer": "ipython3",
   "version": "3.7.4"
  }
 },
 "nbformat": 4,
 "nbformat_minor": 2
}
