{
 "cells": [
  {
   "cell_type": "markdown",
   "metadata": {},
   "source": [
    "https://www.udemy.com/course/hacking-und-netzwerkanalyse-mit-wireshark-der-komplettkurs/learn/lecture/6851614#overview"
   ]
  },
  {
   "cell_type": "markdown",
   "metadata": {},
   "source": [
    "# Inhalt\n",
    "* nicht alles mitschneiden sondern nur bspw host 8.8.8.8 für Google in \n",
    "* Analyse source \n",
    "* Analyse Destination\n",
    "* im ICMP request / Reply\n",
    "* Filtern nur auf die Absender oder Destination Adress\n",
    "\n",
    "* Analyse von UDP und TCP DNS-AUFLÖSUNGEN\n",
    "    * auf der bash das Programm \"dig\" für auflösung von ip zu DNS Einträge bspw \"dig @8.8.8.8 www.cbt-24-de A\" das ist via UDP  => dieser request kann mit einem Port-Filter auf 53 aufgezeichnet werden\n",
    "    * auf der bash das Programm \"dig\" für auflösung von ip zu DNS Einträge bspw \"dig @8.8.8.8 www.cbt-24-de A\" das ist via TCP  => dieser request kann mit einem Port-Filter auf 53 aufgezeichnet werden\n",
    "    * Filtern auf einen Port\n",
    "    * filtern des Absender Ports\n",
    "* Kombination von Filtern (bsp auf Protokoll UDP & destination Port 53) // bspw: \"udp dst port 53 and dst host 8.8.8.8\" wir filtern auf udp / dst port & dst Host\n",
    "    * Filter Kombinieren mit And OR || bei or wird ein komplett neuer filter gesetzt und missachtet alle Kriterien der Filter vorab"
   ]
  },
  {
   "cell_type": "markdown",
   "metadata": {},
   "source": [
    "# Zusammenfassung\n",
    "* man Kann auf alles filtern"
   ]
  },
  {
   "cell_type": "markdown",
   "metadata": {},
   "source": [
    "<hr>\n",
    "<hr>\n",
    "<hr>\n",
    "\n",
    "# Here the System and packages I used for creating this Notebook"
   ]
  },
  {
   "cell_type": "code",
   "execution_count": 1,
   "metadata": {},
   "outputs": [
    {
     "name": "stdout",
     "output_type": "stream",
     "text": [
      "posix\n",
      "Linux\n",
      "5.3.0-kali1-amd64\n"
     ]
    }
   ],
   "source": [
    "import os\n",
    "print(os.name)\n",
    "import platform\n",
    "print(platform.system())\n",
    "print(platform.release())"
   ]
  },
  {
   "cell_type": "code",
   "execution_count": null,
   "metadata": {},
   "outputs": [],
   "source": []
  }
 ],
 "metadata": {
  "kernelspec": {
   "display_name": "Python 3",
   "language": "python",
   "name": "python3"
  },
  "language_info": {
   "codemirror_mode": {
    "name": "ipython",
    "version": 3
   },
   "file_extension": ".py",
   "mimetype": "text/x-python",
   "name": "python",
   "nbconvert_exporter": "python",
   "pygments_lexer": "ipython3",
   "version": "3.7.5"
  }
 },
 "nbformat": 4,
 "nbformat_minor": 2
}
