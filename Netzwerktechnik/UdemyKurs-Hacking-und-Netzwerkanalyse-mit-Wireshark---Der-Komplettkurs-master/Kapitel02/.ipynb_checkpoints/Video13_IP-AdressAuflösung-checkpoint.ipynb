{
 "cells": [
  {
   "cell_type": "markdown",
   "metadata": {},
   "source": [
    "https://www.udemy.com/course/hacking-und-netzwerkanalyse-mit-wireshark-der-komplettkurs/learn/lecture/6851614#overview"
   ]
  },
  {
   "cell_type": "markdown",
   "metadata": {},
   "source": [
    "# Inhalt\n",
    "* hinter IP bzw im ISO osi ist die MAC / HW-Adresse\n",
    "* übesetzung zwischen IP & HW\n",
    "* Ablauf\n",
    "    * löschen des ARP-Caches mti ip neigh flush all\n",
    "    * ping von Maschine mit leerem ARP => broadcast\n",
    "        * senden ohne Target meine Mac und meine ip \n",
    "        \n",
    "* Bei IP immer end to end \n",
    "* => mac adressen nur local // IP ermöglicht über mehrere Subnetze hinweg die Kommunikation"
   ]
  },
  {
   "cell_type": "markdown",
   "metadata": {},
   "source": [
    "Im Manuellen können hier die Filter gesetzt werden:\n",
    "![](imgs/Picture1.JPG)"
   ]
  },
  {
   "cell_type": "markdown",
   "metadata": {},
   "source": [
    "# Beispielfilter\n",
    "\n"
   ]
  },
  {
   "cell_type": "markdown",
   "metadata": {},
   "source": [
    "# Zusammenfassung\n",
    "* man Kann auf alles filtern\n",
    "\n",
    "* bsp 1 => Filter auf \"host 8.8.8.8\" dann von wird nur der Traffic zwischen lokaler maschine und 8.8.8.8 getrackt => ping auf 8.8.8.8.\n",
    "* bsp 2 => filter nur auf den source \"source host 8.8.8.8\" dann nur die einkommenden // source\n",
    "* bsp 3 => filter nur auf den source \"dst host 8.8.8.8\" dann nur die ausgehenden  // destination\n",
    "* bsp 4 DNS = Port 53 abfrage => filter = \"port 53\""
   ]
  },
  {
   "cell_type": "markdown",
   "metadata": {},
   "source": [
    "<hr>\n",
    "<hr>\n",
    "<hr>\n",
    "\n",
    "# Here the System and packages I used for creating this Notebook"
   ]
  },
  {
   "cell_type": "code",
   "execution_count": 1,
   "metadata": {},
   "outputs": [
    {
     "name": "stdout",
     "output_type": "stream",
     "text": [
      "posix\n",
      "Linux\n",
      "5.3.0-kali1-amd64\n"
     ]
    }
   ],
   "source": [
    "import os\n",
    "print(os.name)\n",
    "import platform\n",
    "print(platform.system())\n",
    "print(platform.release())"
   ]
  },
  {
   "cell_type": "code",
   "execution_count": null,
   "metadata": {},
   "outputs": [],
   "source": []
  }
 ],
 "metadata": {
  "kernelspec": {
   "display_name": "Python 3",
   "language": "python",
   "name": "python3"
  },
  "language_info": {
   "codemirror_mode": {
    "name": "ipython",
    "version": 3
   },
   "file_extension": ".py",
   "mimetype": "text/x-python",
   "name": "python",
   "nbconvert_exporter": "python",
   "pygments_lexer": "ipython3",
   "version": "3.7.0"
  },
  "toc": {
   "base_numbering": 1,
   "nav_menu": {},
   "number_sections": true,
   "sideBar": true,
   "skip_h1_title": false,
   "title_cell": "Table of Contents",
   "title_sidebar": "Contents",
   "toc_cell": false,
   "toc_position": {},
   "toc_section_display": true,
   "toc_window_display": false
  }
 },
 "nbformat": 4,
 "nbformat_minor": 2
}
