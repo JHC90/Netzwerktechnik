{
 "cells": [
  {
   "cell_type": "markdown",
   "metadata": {},
   "source": [
    "https://www.udemy.com/course/hacking-und-netzwerkanalyse-mit-wireshark-der-komplettkurs/learn/lecture/8516042#overview"
   ]
  },
  {
   "cell_type": "markdown",
   "metadata": {},
   "source": [
    "# Vorbedingung\n",
    "Im folder ./data müssen ein Paar chronologische Dateien liegen "
   ]
  },
  {
   "cell_type": "markdown",
   "metadata": {},
   "source": [
    "# Mergeinfo\n",
    "\n",
    "wenn man mehrere Mitschnitte zusammenbringen will. ergo das gegenteilige von dem was wir in edit cap [video73](./Video_73_CapInfo_Editcap.ipynb))\n",
    "\n",
    "Mehrere Mitschnitte zu einem Zusammenführen\n",
    "\n",
    "geht unter windows und linux ident\n",
    "\n",
    "bspw mehere Mitschnitte zum gleichen Zeitpunkt // hier nur als bsp\n",
    "* FTP zu Zeispanne T1\n",
    "* https zu Zeispanne T1\n",
    "* http zu Zeispanne T1\n",
    "* sftp zu Zeispanne T1\n",
    "\n",
    "\n",
    "diese wollen wir nun mergen\n",
    "\n",
    "\n",
    "\n"
   ]
  },
  {
   "cell_type": "markdown",
   "metadata": {},
   "source": [
    "hier ein bsp wie ich mehre Files wieder zu einem zusammenführe\n",
    "entweder nach\n",
    "* Zeitstempel\n",
    "* reihenfolge\n",
    "* "
   ]
  },
  {
   "cell_type": "markdown",
   "metadata": {},
   "source": [
    "hier exemplarisch nur zwei zusammengeführt"
   ]
  },
  {
   "cell_type": "code",
   "execution_count": 43,
   "metadata": {},
   "outputs": [],
   "source": [
    "%%bash\n",
    "mergecap -w ./data/together ./data/TestForCapinfos30_00000_20191106025321.pcapng ./data/TestForCapinfos30_00001_20191106025324.pcapng"
   ]
  },
  {
   "cell_type": "markdown",
   "metadata": {},
   "source": [
    "Resultat:\n",
    "![title](imgs/mergecap1.png)"
   ]
  },
  {
   "cell_type": "code",
   "execution_count": 44,
   "metadata": {},
   "outputs": [
    {
     "name": "stdout",
     "output_type": "stream",
     "text": [
      "/home/kali-user/Desktop/Udemy-Course/Kapitel11\n",
      "total 96\n",
      "drwxr-xr-x 2 kali-user kali-user  4096 Nov  6 04:07 .\n",
      "drwxr-xr-x 5 kali-user kali-user  4096 Nov  6 04:12 ..\n",
      "-rw-r--r-- 1 kali-user kali-user  6944 Nov  6 03:58 TestForCapinfos30_00000_20191106025321.pcapng\n",
      "-rw-r--r-- 1 kali-user kali-user  4788 Nov  6 03:58 TestForCapinfos30_00001_20191106025324.pcapng\n",
      "-rw-r--r-- 1 kali-user kali-user  7576 Nov  6 03:58 TestForCapinfos30_00002_20191106025328.pcapng\n",
      "-rw-r--r-- 1 kali-user kali-user 49552 Nov  6 02:54 TestForCapinfos.pcapng\n",
      "-rw-r--r-- 1 kali-user kali-user 11644 Nov  6 04:12 together\n"
     ]
    }
   ],
   "source": [
    "%%bash\n",
    "pwd\n",
    "cd ./data/\n",
    "ls -l -a\n",
    "cd .."
   ]
  },
  {
   "cell_type": "markdown",
   "metadata": {},
   "source": [
    "Die Datei kann dann einfach im Wireshark analysiert werden"
   ]
  },
  {
   "cell_type": "markdown",
   "metadata": {},
   "source": [
    "<hr>\n",
    "<hr>\n",
    "<hr>\n",
    "\n",
    "# Here the System and packages I used for creating this Notebook"
   ]
  },
  {
   "cell_type": "code",
   "execution_count": 21,
   "metadata": {},
   "outputs": [
    {
     "name": "stdout",
     "output_type": "stream",
     "text": [
      "posix\n",
      "Linux\n",
      "5.3.0-kali1-amd64\n"
     ]
    }
   ],
   "source": [
    "import os\n",
    "print(os.name)\n",
    "import platform\n",
    "print(platform.system())\n",
    "print(platform.release())"
   ]
  }
 ],
 "metadata": {
  "kernelspec": {
   "display_name": "Python 3",
   "language": "python",
   "name": "python3"
  },
  "language_info": {
   "codemirror_mode": {
    "name": "ipython",
    "version": 3
   },
   "file_extension": ".py",
   "mimetype": "text/x-python",
   "name": "python",
   "nbconvert_exporter": "python",
   "pygments_lexer": "ipython3",
   "version": "3.7.5"
  }
 },
 "nbformat": 4,
 "nbformat_minor": 2
}
