{
 "cells": [
  {
   "cell_type": "markdown",
   "metadata": {},
   "source": [
    "https://www.udemy.com/course/hacking-und-netzwerkanalyse-mit-wireshark-der-komplettkurs/learn/lecture/8516036#overview"
   ]
  },
  {
   "cell_type": "markdown",
   "metadata": {},
   "source": [
    "# CapInfo & Capng\n",
    "\n",
    "\n"
   ]
  },
  {
   "cell_type": "markdown",
   "metadata": {},
   "source": [
    "## Capinfo\n",
    "Capinfo liefert in erster Linie Informationen über die Daten => Metadaten.\n",
    "\n",
    "Editcap ist ein Tool mit welchem die Dateien vorverarbeitet werden können. Vorverarbeitet heist hier aus großen Dateien eine vielzahl kleinerer Dateien zu snippen, sodass diese kleinen Dateien besser analysiert werden können.\n",
    "\n",
    "mergecap ist invers zu editcap und fasst mehrere kleine Dateien zu einer großen Datei zusammen. Thema wird im nächsten Kapitel unter [video74](./Video_74_Mergeinfo.ipynb)) behandelt\n",
    "\n",
    "\n",
    "\n",
    " mit dem befehl **capinfos Filname.pcapng** kann eine Datei eingelesen werden \\”\n",
    " mit %% bash hol ich mir die Bash rein"
   ]
  },
  {
   "cell_type": "code",
   "execution_count": null,
   "metadata": {},
   "outputs": [],
   "source": [
    "# Laden von Informationen über einen Dump"
   ]
  },
  {
   "cell_type": "code",
   "execution_count": 1,
   "metadata": {},
   "outputs": [
    {
     "name": "stdout",
     "output_type": "stream",
     "text": [
      "File name:           ./data/TestForCapinfos.pcapng\n",
      "File type:           Wireshark/... - pcapng\n",
      "File encapsulation:  Ethernet\n",
      "File timestamp precision:  microseconds (6)\n",
      "Packet size limit:   file hdr: (not set)\n",
      "Number of packets:   184\n",
      "File size:           49 kB\n",
      "Data size:           43 kB\n",
      "Capture duration:    20.334528 seconds\n",
      "First packet time:   2019-11-06 02:53:21.022648\n",
      "Last packet time:    2019-11-06 02:53:41.357176\n",
      "Data byte rate:      2,132 bytes/s\n",
      "Data bit rate:       17 kbps\n",
      "Average packet size: 235.71 bytes\n",
      "Average packet rate: 9 packets/s\n",
      "SHA256:              af276bb7abab7d39826ba81c5b8dd1bbf25de9981856b3f1d59edaeb50682c70\n",
      "RIPEMD160:           a1657e7fb210bc75aac7eac7bc662b79a9554f7b\n",
      "SHA1:                806bc58843d26d9a3155c9ed69f24a48982d8619\n",
      "Strict time order:   True\n",
      "Number of interfaces in file: 1\n",
      "Interface #0 info:\n",
      "                     Encapsulation = Ethernet (1 - ether)\n",
      "                     Capture length = 2048\n",
      "                     Time precision = microseconds (6)\n",
      "                     Time ticks per second = 1000000\n",
      "                     Number of stat entries = 0\n",
      "                     Number of packets = 184\n"
     ]
    }
   ],
   "source": [
    "%%bash\n",
    "capinfos ./data/TestForCapinfos.pcapng"
   ]
  },
  {
   "cell_type": "markdown",
   "metadata": {},
   "source": [
    " jetzt wollen wir die Date aufspitten // das wird vor allem bei großen Dateien interessant // hier sind nur 184 Packete drin das macht nichts von der Rechnpower, aber bei großen Dateien wirds dann eng.\n",
    " \n",
    " Capinfo = Informatio nüber packetsammlung = file\n",
    " \n",
    " editcap = aufteilen des files => dadurch entsteht ein Dateisatz, wireshark kann dann den satz laden, dabei werden die Dateien sequenziell bearbeitet, man kann aber dazwischen hoppen\n",
    " * Spliten Großer Datei in Datein gleich großer Packetanzahl\n",
    " * Splitten der Datei in Dateien gleicher Zeiteiheiten des Captures"
   ]
  },
  {
   "cell_type": "raw",
   "metadata": {},
   "source": [
    "# editcap => Hilfe anzeigen"
   ]
  },
  {
   "cell_type": "code",
   "execution_count": 2,
   "metadata": {},
   "outputs": [],
   "source": [
    "%%bash\n",
    "editcap -c 30 ./data/TestForCapinfos.pcapng ./data/TestForCapinfos30.pcapng"
   ]
  },
  {
   "cell_type": "markdown",
   "metadata": {},
   "source": [
    "hier das Resultat:\n",
    "![title](imgs/editcap1.png)\n",
    "    "
   ]
  },
  {
   "cell_type": "markdown",
   "metadata": {},
   "source": [
    "die Einzeldateien können anschließend mit den capinfos wieder durchsucht werden...kann auch mit ls bei de Größe der Dateien gecheckt werden\n"
   ]
  },
  {
   "cell_type": "raw",
   "metadata": {},
   "source": [
    "%%bash\n",
    "cd ./data\n",
    "ls -l TestForCapinfos30*\n",
    "cd.."
   ]
  },
  {
   "cell_type": "raw",
   "metadata": {},
   "source": [
    "Editcap mit Zeiteinteilung"
   ]
  },
  {
   "cell_type": "code",
   "execution_count": 33,
   "metadata": {},
   "outputs": [],
   "source": [
    "%%bash\n",
    "editcap -i 5 ./data/TestForCapinfos.pcapng ./data/TestForCapinfosSplitSec5.pcapng"
   ]
  },
  {
   "cell_type": "markdown",
   "metadata": {},
   "source": [
    "hier das Resultat nach **Zeiteinteilung**:\n",
    "![title](imgs/edicap2.png)\n",
    "\n",
    "Bei Zeit können je nach Traffictime unterschiedlich große Dateien entstehen"
   ]
  },
  {
   "cell_type": "markdown",
   "metadata": {},
   "source": [
    "# Komprimieren\n",
    "\n",
    "wir sind meistens nicht an den daten Payload eines Packets interessiert, daher können diese weggeschnitten werden. Das macht man indem man alle Packet auf die gleiche Größe, indem fall auf 68 setzt."
   ]
  },
  {
   "cell_type": "code",
   "execution_count": 35,
   "metadata": {},
   "outputs": [],
   "source": [
    "%%bash\n",
    "editcap -s 68 ./data/TestForCapinfos.pcapng ./data/TestForCapinfosLen68"
   ]
  },
  {
   "cell_type": "code",
   "execution_count": 37,
   "metadata": {},
   "outputs": [
    {
     "name": "stdout",
     "output_type": "stream",
     "text": [
      "/home/kali-user/Desktop/Udemy-Course/Kapitel11\n",
      "-rw-r--r-- 1 kali-user kali-user 17460 Nov  6 03:47 TestForCapinfosLen68\n",
      "-rw-r--r-- 1 kali-user kali-user 49552 Nov  6 02:54 TestForCapinfos.pcapng\n"
     ]
    }
   ],
   "source": [
    "%%bash\n",
    "pwd\n",
    "cd data/\n",
    "ls -l TestForCapinfos*\n",
    "cd .."
   ]
  },
  {
   "cell_type": "markdown",
   "metadata": {},
   "source": [
    "Aus dem oberen Comman sehe ich dass das File mit Len68 erhäblich (ca 1/3) der Orginaldatei beinhaltet,\n",
    "Die Header sind alle dat, aber das Data ist eben nicht mehr dar"
   ]
  },
  {
   "cell_type": "markdown",
   "metadata": {},
   "source": [
    "<hr>\n",
    "<hr>\n",
    "<hr>\n",
    "\n",
    "# Here the System and packages I used for creating this Notebook"
   ]
  },
  {
   "cell_type": "code",
   "execution_count": 21,
   "metadata": {},
   "outputs": [
    {
     "name": "stdout",
     "output_type": "stream",
     "text": [
      "posix\n",
      "Linux\n",
      "5.3.0-kali1-amd64\n"
     ]
    }
   ],
   "source": [
    "import os\n",
    "print(os.name)\n",
    "import platform\n",
    "print(platform.system())\n",
    "print(platform.release())"
   ]
  }
 ],
 "metadata": {
  "kernelspec": {
   "display_name": "Python 3",
   "language": "python",
   "name": "python3"
  },
  "language_info": {
   "codemirror_mode": {
    "name": "ipython",
    "version": 3
   },
   "file_extension": ".py",
   "mimetype": "text/x-python",
   "name": "python",
   "nbconvert_exporter": "python",
   "pygments_lexer": "ipython3",
   "version": "3.7.5"
  }
 },
 "nbformat": 4,
 "nbformat_minor": 2
}
