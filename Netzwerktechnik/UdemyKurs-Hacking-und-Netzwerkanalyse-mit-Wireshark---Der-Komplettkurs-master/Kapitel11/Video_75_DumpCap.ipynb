{
 "cells": [
  {
   "cell_type": "markdown",
   "metadata": {},
   "source": [
    "https://www.udemy.com/course/hacking-und-netzwerkanalyse-mit-wireshark-der-komplettkurs/learn/lecture/8516030#overview"
   ]
  },
  {
   "cell_type": "markdown",
   "metadata": {},
   "source": [
    "# Dumpcap\n",
    "Rudimentäres Tool für den Mitschnitt,\n",
    "Wireshark T-Shark, TCP-DUMP bauen im weiteren auf DumpCap auf.\n",
    "\n",
    "Man nutzt die CLI tools da sie effizienter sind als GUI-Tools => können performanter Mitschnitte managen.V.A. wenn es um große Dateien geht. \n",
    "\n",
    "\n",
    "\n"
   ]
  },
  {
   "cell_type": "markdown",
   "metadata": {},
   "source": [
    "Ausgabe der möglcihen Interfaces, bei tshark lautet der Befehl **tshark -D**"
   ]
  },
  {
   "cell_type": "raw",
   "metadata": {},
   "source": [
    "# Hilfe\n",
    "%%bash\n",
    "dumpcap -h"
   ]
  },
  {
   "cell_type": "code",
   "execution_count": 4,
   "metadata": {},
   "outputs": [
    {
     "name": "stdout",
     "output_type": "stream",
     "text": [
      "1. eth0\n",
      "2. lo (Loopback)\n",
      "3. any\n",
      "4. nflog\n",
      "5. nfqueue\n"
     ]
    }
   ],
   "source": [
    "%%bash\n",
    "dumpcap -D"
   ]
  },
  {
   "cell_type": "markdown",
   "metadata": {},
   "source": [
    "Resultat:\n",
    "![DumpCap](imgs/dumpCapTShark.png)"
   ]
  },
  {
   "cell_type": "markdown",
   "metadata": {},
   "source": [
    "Mitschnitt egal ob i 1 oder i = etho || sofern 1 = etho / das finde ich wieder mit dumpcap -D raus\n",
    "\n"
   ]
  },
  {
   "cell_type": "raw",
   "metadata": {},
   "source": [
    "# hier fehlt noch die Abbruchbedingung/Stopconditions\n",
    "%%bash\n",
    "dumpcap -i 1\n",
    "\n",
    "# all diese filter werden auch in Wireshark erklärt\n",
    "# Ringpuffer = ein Mitschnitt = meherer Dateien die ZUsammengehören aber nie \n",
    "mitschnitt 1 wird jetzt nach \"-c\" = Anzahl oder \"-a\" = Zeiteinheit "
   ]
  },
  {
   "cell_type": "code",
   "execution_count": 7,
   "metadata": {},
   "outputs": [
    {
     "name": "stderr",
     "output_type": "stream",
     "text": [
      "Capturing on 'eth0'\n",
      "File: ./data/outputDumpCap.pcang\n",
      "\r",
      "Packets: 127 \r",
      "Packets: 129 \r",
      "Packets: 163 \r",
      "Packets: 165 \r",
      "Packets: 175 \r",
      "Packets: 178 \r",
      "Packets: 182 \r",
      "Packets: 184 \r",
      "Packets: 185 \r",
      "Packets: 188 \r",
      "Packets: 190 \r",
      "Packets: 193 \r",
      "Packets: 196 \r",
      "Packets: 198 \r",
      "Packets: 200 \r",
      "Packets: 202 \r",
      "Packets: 204 \r",
      "Packets: 206 \r",
      "Packets: 266 \r",
      "Packets: 333 \r",
      "Packets: 357 \r",
      "Packets: 500 \r",
      "Packets: 526 \r",
      "Packets: 538 \r",
      "Packets: 551 \r",
      "Packets: 591 \r",
      "Packets: 618 \r",
      "Packets: 619 \r",
      "Packets: 639 \r",
      "Packets: 653 \r",
      "Packets: 683 \r",
      "Packets: 757 \r",
      "Packets: 766 \r",
      "Packets: 769 \r",
      "Packets: 771 \r",
      "Packets: 775 \r",
      "Packets: 780 \r",
      "Packets: 782 \r",
      "Packets: 786 \r",
      "Packets: 798 \r",
      "Packets: 817 \r",
      "Packets: 829 \r",
      "Packets: 832 \r",
      "Packets: 848 \r",
      "Packets: 871 \r",
      "Packets: 877 \r",
      "Packets: 943 \r",
      "Packets: 1127 \r",
      "Packets: 1453 \r",
      "Packets: 1619 \r",
      "Packets: 1705 \r",
      "Packets: 1771 \r",
      "Packets: 1847 \r",
      "Packets: 2387 \r",
      "Packets: 3120 \r",
      "Packets: 3491 \r",
      "Packets: 4515 \r",
      "Packets: 5410 \r",
      "Packets: 5993 \r",
      "Packets: 6023 \r",
      "Packets: 6307 \r",
      "Packets: 7129 \r",
      "Packets: 7794 \r",
      "Packets: 8764 \r",
      "Packets: 9194 \r",
      "Packets: 11005 \r",
      "Packets: 12706 \r",
      "Packets: 12955 \r",
      "Packets: 13117 \r",
      "Packets: 13214 \r",
      "Packets: 13279 \r",
      "Packets: 13835 \r",
      "Packets: 14086 \r",
      "Packets: 14277 \r",
      "Packets: 14451 \r",
      "Packets: 14570 \r",
      "Packets: 14751 \r",
      "Packets: 14892 \r",
      "Packets: 15114 \r",
      "Packets: 15435 \r",
      "Packets: 15722 \r",
      "Packets: 15959 \r",
      "Packets: 17354 \r",
      "Packets: 17637 \r",
      "Packets: 17983 \r",
      "Packets: 18210 \r",
      "Packets: 18536 \r",
      "Packets: 18753 \r",
      "Packets: 18947 \r",
      "Packets: 19127 \r",
      "Packets: 19354 \r",
      "Packets: 19623 \r",
      "Packets: 19686 \r",
      "Packets: 19700 \r",
      "Packets: 19714 \r",
      "Packets: 19731 \r",
      "Packets: 19824 \r",
      "Packets: 19835 \r",
      "Packets: 19855 \r",
      "Packets: 19878 \r",
      "Packets: 19888 \r",
      "Packets: 19903 \r",
      "Packets: 19922 \r",
      "Packets: 19939 \r",
      "Packets: 19949 \r",
      "Packets: 19955 \r",
      "Packets: 19976 \r",
      "Packets: 19999 \r",
      "Packets: 20024 \r",
      "Packets: 20026 \r",
      "Packets: 20053 \r",
      "Packets: 20081 \r",
      "Packets captured: 20081\n",
      "Packets received/dropped on interface 'eth0': 20081/0 (pcap:0/dumpcap:0/flushed:0/ps_ifdrop:0) (100.0%)\n"
     ]
    }
   ],
   "source": [
    "%%bash\n",
    "dumpcap -i eth0 -a duration:60 -w ./data/outputDumpCap.pcang"
   ]
  },
  {
   "cell_type": "markdown",
   "metadata": {},
   "source": [
    "Nun ergänzen wir den oberen dump um einen Ringbuffer der alle 10 Sekunden oder alle 10 KB eine neue Datei anlegt"
   ]
  },
  {
   "cell_type": "code",
   "execution_count": 8,
   "metadata": {},
   "outputs": [
    {
     "name": "stderr",
     "output_type": "stream",
     "text": [
      "Capturing on 'eth0'\n",
      "File: ./data/DumpCap-RingBuffer/OutputDumpCapRingBuffer_00001_20191106050057.pcang\n",
      "\r",
      "Packets: 139 \r",
      "Packets: 233 \r",
      "Packets: 272 \r",
      "Packets: 274 \r",
      "Packets: 277 \r",
      "Packets: 289 \r",
      "Packets: 298 \r",
      "Packets: 304 \r",
      "Packets: 316 \r",
      "Packets: 318 \r",
      "Packets: 424 \r",
      "Packets: 590 \r",
      "Packets: 719 \r",
      "Packets: 787 \r",
      "Packets: 863 \r",
      "Packets: 965 \r",
      "Packets: 965 File: ./data/DumpCap-RingBuffer/OutputDumpCapRingBuffer_00002_20191106050107.pcang\n",
      "\r",
      "Packets: 1077 \r",
      "Packets: 1235 \r",
      "Packets: 1351 \r",
      "Packets: 1642 \r",
      "Packets: 2549 \r",
      "Packets: 4169 \r",
      "Packets: 4702 \r",
      "Packets: 5050 \r",
      "Packets: 5148 \r",
      "Packets: 5529 \r",
      "Packets: 5614 \r",
      "Packets: 5713 \r",
      "Packets: 5814 \r",
      "Packets: 5923 \r",
      "Packets: 6059 \r",
      "Packets: 6194 \r",
      "Packets: 6355 \r",
      "Packets: 6487 \r",
      "Packets: 8409 \r",
      "Packets: 8409 File: ./data/DumpCap-RingBuffer/OutputDumpCapRingBuffer_00003_20191106050117.pcang\n",
      "\r",
      "Packets: 8565 \r",
      "Packets: 8657 \r",
      "Packets: 8798 \r",
      "Packets: 9062 \r",
      "Packets: 9283 \r",
      "Packets: 9345 \r",
      "Packets: 9411 \r",
      "Packets: 9413 \r",
      "Packets: 9423 \r",
      "Packets: 9450 \r",
      "Packets: 9451 \r",
      "Packets: 9467 \r",
      "Packets: 9475 \r",
      "Packets: 9481 \r",
      "Packets: 9487 \r",
      "Packets: 9498 \r",
      "Packets: 9500 \r",
      "Packets: 9501 \r",
      "Packets: 9503 \r",
      "Packets: 9507 \r",
      "Packets: 9507 File: ./data/DumpCap-RingBuffer/OutputDumpCapRingBuffer_00004_20191106050128.pcang\n",
      "\r",
      "Packets: 9517 \r",
      "Packets: 9519 \r",
      "Packets: 10433 \r",
      "Packets: 11772 \r",
      "Packets: 11947 \r",
      "Packets: 11957 \r",
      "Packets: 11970 \r",
      "Packets: 12055 \r",
      "Packets: 12212 \r",
      "Packets: 12347 \r",
      "Packets: 12348 \r",
      "Packets: 12353 \r",
      "Packets: 12357 \r",
      "Packets: 12359 \r",
      "Packets: 12360 \r",
      "Packets: 12361 \r",
      "Packets: 12364 \r",
      "Packets: 12383 \r",
      "Packets: 12383 File: ./data/DumpCap-RingBuffer/OutputDumpCapRingBuffer_00005_20191106050138.pcang\n",
      "\r",
      "Packets: 12485 \r",
      "Packets: 12644 \r",
      "Packets: 12766 \r",
      "Packets: 12830 \r",
      "Packets: 12913 \r",
      "Packets: 13011 \r",
      "Packets: 13404 \r",
      "Packets: 13607 \r",
      "Packets: 13741 \r",
      "Packets: 13885 \r",
      "Packets: 14222 \r",
      "Packets: 14730 \r",
      "Packets: 14907 \r",
      "Packets: 16805 \r",
      "Packets: 17073 \r",
      "Packets: 17186 \r",
      "Packets: 17259 \r",
      "Packets: 17333 \r",
      "Packets: 17397 \r",
      "Packets: 17397 File: ./data/DumpCap-RingBuffer/OutputDumpCapRingBuffer_00006_20191106050148.pcang\n",
      "\r",
      "Packets: 17448 \r",
      "Packets: 17565 \r",
      "Packets: 17755 \r",
      "Packets: 17940 \r",
      "Packets: 18113 \r",
      "Packets: 18201 \r",
      "Packets: 18250 \r",
      "Packets: 18407 \r",
      "Packets: 18588 \r",
      "Packets: 18718 \r",
      "Packets: 19001 \r",
      "Packets: 19135 \r",
      "Packets: 19204 \r",
      "Packets: 19309 \r",
      "Packets: 19401 \r",
      "Packets: 19518 \r",
      "Packets: 19681 \r",
      "Packets captured: 19681\n",
      "Packets received/dropped on interface 'eth0': 19681/0 (pcap:0/dumpcap:0/flushed:0/ps_ifdrop:0) (100.0%)\n"
     ]
    }
   ],
   "source": [
    "%%bash\n",
    "dumpcap -i eth0 -a duration:60 -w ./data/DumpCap-RingBuffer/OutputDumpCapRingBuffer.pcang -b duration:10 filesize:10"
   ]
  },
  {
   "cell_type": "markdown",
   "metadata": {},
   "source": [
    "<hr>\n",
    "<hr>\n",
    "<hr>\n",
    "\n",
    "# Here the System and packages I used for creating this Notebook"
   ]
  },
  {
   "cell_type": "code",
   "execution_count": 1,
   "metadata": {},
   "outputs": [
    {
     "name": "stdout",
     "output_type": "stream",
     "text": [
      "posix\n",
      "Linux\n",
      "5.3.0-kali1-amd64\n"
     ]
    }
   ],
   "source": [
    "import os\n",
    "print(os.name)\n",
    "import platform\n",
    "print(platform.system())\n",
    "print(platform.release())"
   ]
  },
  {
   "cell_type": "code",
   "execution_count": null,
   "metadata": {},
   "outputs": [],
   "source": []
  }
 ],
 "metadata": {
  "kernelspec": {
   "display_name": "Python 3",
   "language": "python",
   "name": "python3"
  },
  "language_info": {
   "codemirror_mode": {
    "name": "ipython",
    "version": 3
   },
   "file_extension": ".py",
   "mimetype": "text/x-python",
   "name": "python",
   "nbconvert_exporter": "python",
   "pygments_lexer": "ipython3",
   "version": "3.7.5"
  }
 },
 "nbformat": 4,
 "nbformat_minor": 2
}
