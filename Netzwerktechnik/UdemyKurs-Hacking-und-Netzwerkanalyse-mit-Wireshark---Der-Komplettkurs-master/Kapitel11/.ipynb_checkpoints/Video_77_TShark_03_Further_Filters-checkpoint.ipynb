{
 "cells": [
  {
   "cell_type": "markdown",
   "metadata": {},
   "source": [
    "https://www.udemy.com/course/hacking-und-netzwerkanalyse-mit-wireshark-der-komplettkurs/learn/lecture/8549460#overview"
   ]
  },
  {
   "cell_type": "markdown",
   "metadata": {},
   "source": [
    "# Tshark\n",
    "* kann gut in Python implementiert werden | Sprich es gibt das Packet PyShark welches dann auf TShark zugreift\n",
    "* in Windows muss dieses Tool dezidiert nach installiert werden\n",
    "* Windows verursacht gegenwärtig Komplikationen(bsp können wir inPython mit demPackage TShark keine Caps erzeugen) die wir nichtlösen können, daher arbeiten wir in Linux / Kali\n",
    "\n",
    "\n",
    "daher nachfolgende immer erst die Native Konsolenausgabe und anschließend die Python implementierung\n",
    "\n",
    "für den mitschnitt der beiden folgenden Scripte gibt es wohl sinn parallel einen ping auf 8.8.8.8 laufen zu haen"
   ]
  },
  {
   "cell_type": "markdown",
   "metadata": {},
   "source": [
    "# Come Back after seen the Main-Videos"
   ]
  },
  {
   "cell_type": "markdown",
   "metadata": {},
   "source": [
    "<hr>\n",
    "<hr>\n",
    "<hr>\n",
    "\n",
    "# Here the System and packages I used for creating this Notebook"
   ]
  },
  {
   "cell_type": "code",
   "execution_count": 1,
   "metadata": {},
   "outputs": [
    {
     "name": "stdout",
     "output_type": "stream",
     "text": [
      "posix\n",
      "Linux\n",
      "5.3.0-kali1-amd64\n"
     ]
    }
   ],
   "source": [
    "import os\n",
    "print(os.name)\n",
    "import platform\n",
    "print(platform.system())\n",
    "print(platform.release())"
   ]
  }
 ],
 "metadata": {
  "kernelspec": {
   "display_name": "Python 3",
   "language": "python",
   "name": "python3"
  },
  "language_info": {
   "codemirror_mode": {
    "name": "ipython",
    "version": 3
   },
   "file_extension": ".py",
   "mimetype": "text/x-python",
   "name": "python",
   "nbconvert_exporter": "python",
   "pygments_lexer": "ipython3",
   "version": "3.7.5"
  }
 },
 "nbformat": 4,
 "nbformat_minor": 2
}
