{
 "cells": [
  {
   "cell_type": "markdown",
   "metadata": {},
   "source": [
    "https://www.udemy.com/course/hacking-und-netzwerkanalyse-mit-wireshark-der-komplettkurs/learn/lecture/8516032#overview"
   ]
  },
  {
   "cell_type": "markdown",
   "metadata": {},
   "source": [
    "# Tshark\n",
    "* kann gut in Python implementiert werden | Sprich es gibt das Packet PyShark welches dann auf TShark zugreift\n",
    "* in Windows muss dieses Tool dezidiert nach installiert werden\n",
    "* Windows verursacht gegenwärtig Komplikationen(bsp können wir inPython mit demPackage TShark keine Caps erzeugen) die wir nichtlösen können, daher arbeiten wir in Linux / Kali\n",
    "\n",
    "\n",
    "daher nachfolgende immer erst die Native Konsolenausgabe und anschließend die Python implementierung\n",
    "\n",
    "für den mitschnitt der beiden folgenden Scripte gibt es wohl sinn parallel einen ping auf 8.8.8.8 laufen zu haen"
   ]
  },
  {
   "cell_type": "code",
   "execution_count": 3,
   "metadata": {},
   "outputs": [
    {
     "name": "stdout",
     "output_type": "stream",
     "text": [
      "    1 0.000000000 192.168.178.69 → 8.8.8.8      ICMP 98 Echo (ping) request  id=0x19ed, seq=4/1024, ttl=64\n",
      "    2 0.023102900      8.8.8.8 → 192.168.178.69 ICMP 98 Echo (ping) reply    id=0x19ed, seq=4/1024, ttl=54 (request in 1)\n",
      "    3 1.001339100 192.168.178.69 → 8.8.8.8      ICMP 98 Echo (ping) request  id=0x19ed, seq=5/1280, ttl=64\n",
      "    4 1.018522800      8.8.8.8 → 192.168.178.69 ICMP 98 Echo (ping) reply    id=0x19ed, seq=5/1280, ttl=54 (request in 3)\n",
      "    5 2.002794500 192.168.178.69 → 8.8.8.8      ICMP 98 Echo (ping) request  id=0x19ed, seq=6/1536, ttl=64\n",
      "    6 2.020656800      8.8.8.8 → 192.168.178.69 ICMP 98 Echo (ping) reply    id=0x19ed, seq=6/1536, ttl=54 (request in 5)\n"
     ]
    },
    {
     "name": "stderr",
     "output_type": "stream",
     "text": [
      "Capturing on 'eth0'\n",
      "6 packets captured\n"
     ]
    }
   ],
   "source": [
    "%%bash\n",
    "tshark -i eth0 -f \"icmp and host 8.8.8.8\" -a duration:3\n"
   ]
  },
  {
   "cell_type": "raw",
   "metadata": {},
   "source": [
    "# Folgender Code wirft mir im Jupyter einen Fehlerm läuft aber in Python \"Raw\" problemlos durch, wurde hier an der gleichen Virtuellen Kali-Maschine erstellt.... ergo hab ich hier nur meinen Workaround\n",
    "import pyshark\n",
    "capture = pyshark.LiveCapture(interface='eth0')\n",
    "capture.sniff(timeout=5)\n",
    "print(capture)\n",
    "print(capture[0])"
   ]
  },
  {
   "cell_type": "markdown",
   "metadata": {},
   "source": [
    "![TsharkInPython](imgs/TsharkPython.png)"
   ]
  },
  {
   "cell_type": "markdown",
   "metadata": {},
   "source": [
    "Hier kann man dann einfach den Mitschnitt erstellen"
   ]
  },
  {
   "cell_type": "code",
   "execution_count": 5,
   "metadata": {},
   "outputs": [
    {
     "name": "stderr",
     "output_type": "stream",
     "text": [
      "Capturing on 'eth0'\n",
      "6 packets captured\n"
     ]
    }
   ],
   "source": [
    "%%bash\n",
    "tshark -i eth0 -f \"icmp and host 8.8.8.8\" -a duration:3 -w ./data/DumpOFTshark.pcapng"
   ]
  },
  {
   "cell_type": "markdown",
   "metadata": {},
   "source": [
    "einlesen des Mitschnittes via t-shark, kann direkt auch in Wireshark eingelesen werden"
   ]
  },
  {
   "cell_type": "code",
   "execution_count": 7,
   "metadata": {},
   "outputs": [
    {
     "name": "stdout",
     "output_type": "stream",
     "text": [
      "    1 0.000000000 192.168.178.69 → 8.8.8.8      ICMP 98 Echo (ping) request  id=0x0d82, seq=7/1792, ttl=64\n",
      "    2 0.014936200      8.8.8.8 → 192.168.178.69 ICMP 98 Echo (ping) reply    id=0x0d82, seq=7/1792, ttl=54 (request in 1)\n",
      "    3 1.001274200 192.168.178.69 → 8.8.8.8      ICMP 98 Echo (ping) request  id=0x0d82, seq=8/2048, ttl=64\n",
      "    4 1.020655800      8.8.8.8 → 192.168.178.69 ICMP 98 Echo (ping) reply    id=0x0d82, seq=8/2048, ttl=54 (request in 3)\n",
      "    5 2.002923500 192.168.178.69 → 8.8.8.8      ICMP 98 Echo (ping) request  id=0x0d82, seq=9/2304, ttl=64\n",
      "    6 2.020110800      8.8.8.8 → 192.168.178.69 ICMP 98 Echo (ping) reply    id=0x0d82, seq=9/2304, ttl=54 (request in 5)\n"
     ]
    }
   ],
   "source": [
    "%%bash\n",
    "tshark -r ./data/DumpOFTshark.pcapng"
   ]
  },
  {
   "cell_type": "markdown",
   "metadata": {},
   "source": [
    "<hr>\n",
    "<hr>\n",
    "<hr>\n",
    "\n",
    "# Here the System and packages I used for creating this Notebook"
   ]
  },
  {
   "cell_type": "code",
   "execution_count": 1,
   "metadata": {},
   "outputs": [
    {
     "name": "stdout",
     "output_type": "stream",
     "text": [
      "posix\n",
      "Linux\n",
      "5.3.0-kali1-amd64\n"
     ]
    }
   ],
   "source": [
    "import os\n",
    "print(os.name)\n",
    "import platform\n",
    "print(platform.system())\n",
    "print(platform.release())"
   ]
  }
 ],
 "metadata": {
  "kernelspec": {
   "display_name": "Python 3",
   "language": "python",
   "name": "python3"
  },
  "language_info": {
   "codemirror_mode": {
    "name": "ipython",
    "version": 3
   },
   "file_extension": ".py",
   "mimetype": "text/x-python",
   "name": "python",
   "nbconvert_exporter": "python",
   "pygments_lexer": "ipython3",
   "version": "3.7.5"
  }
 },
 "nbformat": 4,
 "nbformat_minor": 2
}
