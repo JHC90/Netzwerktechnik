{
 "cells": [
  {
   "cell_type": "markdown",
   "metadata": {},
   "source": [
    "https://www.udemy.com/course/hacking-und-netzwerkanalyse-mit-wireshark-der-komplettkurs/learn/lecture/8516030#overview"
   ]
  },
  {
   "cell_type": "markdown",
   "metadata": {},
   "source": [
    "# Dumpcap\n",
    "Rudimentäres Tool für den Mitschnitt,\n",
    "Wireshark T-Shark, TCP-DUMP bauen im weiteren auf DumpCap auf.\n",
    "\n",
    "Man nutzt die CLI tools da sie effizienter sind als GUI-Tools => können performanter Mitschnitte managen.V.A. wenn es um große Dateien geht. \n",
    "\n",
    "\n",
    "\n"
   ]
  },
  {
   "cell_type": "markdown",
   "metadata": {},
   "source": [
    "Ausgabe der möglcihen Interfaces, bei tshark lautet der Befehl **tshark -D**"
   ]
  },
  {
   "cell_type": "raw",
   "metadata": {},
   "source": [
    "# Hilfe\n",
    "%%bash\n",
    "dumpcap -h"
   ]
  },
  {
   "cell_type": "code",
   "execution_count": 4,
   "metadata": {},
   "outputs": [
    {
     "name": "stdout",
     "output_type": "stream",
     "text": [
      "1. eth0\n",
      "2. lo (Loopback)\n",
      "3. any\n",
      "4. nflog\n",
      "5. nfqueue\n"
     ]
    }
   ],
   "source": [
    "%%bash\n",
    "dumpcap -D"
   ]
  },
  {
   "cell_type": "markdown",
   "metadata": {},
   "source": [
    "Resultat:\n",
    "![DumpCap](imgs/dumpCapTShark.png)"
   ]
  },
  {
   "cell_type": "markdown",
   "metadata": {},
   "source": [
    "Mitschnitt egal ob i 1 oder i = etho || sofern 1 = etho / das finde ich wieder mit dumpcap -D raus\n",
    "\n"
   ]
  },
  {
   "cell_type": "raw",
   "metadata": {},
   "source": [
    "# hier fehlt noch die Abbruchbedingung/Stopconditions\n",
    "%%bash\n",
    "dumpcap -i 1\n",
    "\n",
    "# all diese filter werden auch in Wireshark erklärt\n",
    "# Ringpuffer = ein Mitschnitt = meherer Dateien die ZUsammengehören aber nie \n",
    "mitschnitt 1 wird jetzt nach \"-c\" = Anzahl oder \"-a\" = Zeiteinheit "
   ]
  },
  {
   "cell_type": "code",
   "execution_count": null,
   "metadata": {},
   "outputs": [],
   "source": [
    "%%bash\n",
    "dumpcap -i eth0 -a duration:60 -w ./data/outputDumpCap.pcang"
   ]
  },
  {
   "cell_type": "markdown",
   "metadata": {},
   "source": [
    "<hr>\n",
    "<hr>\n",
    "<hr>\n",
    "\n",
    "# Here the System and packages I used for creating this Notebook"
   ]
  },
  {
   "cell_type": "code",
   "execution_count": 1,
   "metadata": {},
   "outputs": [
    {
     "name": "stdout",
     "output_type": "stream",
     "text": [
      "posix\n",
      "Linux\n",
      "5.3.0-kali1-amd64\n"
     ]
    }
   ],
   "source": [
    "import os\n",
    "print(os.name)\n",
    "import platform\n",
    "print(platform.system())\n",
    "print(platform.release())"
   ]
  },
  {
   "cell_type": "code",
   "execution_count": null,
   "metadata": {},
   "outputs": [],
   "source": []
  }
 ],
 "metadata": {
  "kernelspec": {
   "display_name": "Python 3",
   "language": "python",
   "name": "python3"
  },
  "language_info": {
   "codemirror_mode": {
    "name": "ipython",
    "version": 3
   },
   "file_extension": ".py",
   "mimetype": "text/x-python",
   "name": "python",
   "nbconvert_exporter": "python",
   "pygments_lexer": "ipython3",
   "version": "3.7.5"
  }
 },
 "nbformat": 4,
 "nbformat_minor": 2
}
